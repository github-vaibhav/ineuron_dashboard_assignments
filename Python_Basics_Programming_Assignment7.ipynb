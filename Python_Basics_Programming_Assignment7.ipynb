{
 "cells": [
  {
   "cell_type": "code",
   "execution_count": 5,
   "id": "3a2b2f66-649c-422b-b15f-e310947ac2c3",
   "metadata": {},
   "outputs": [
    {
     "name": "stdout",
     "output_type": "stream",
     "text": [
      "Total sum of array is: 59.8\n"
     ]
    }
   ],
   "source": [
    "# 1. Write a Python Program to find sum of array?\n",
    "A=[2,4,6.8,44,3]\n",
    "b=0\n",
    "for x in A:\n",
    "    b=b+x\n",
    "print(f\"Total sum of array is: {b}\")\n",
    "    \n"
   ]
  },
  {
   "cell_type": "code",
   "execution_count": 10,
   "id": "a84d0f17-648f-4140-a212-af2e7a3054a1",
   "metadata": {},
   "outputs": [
    {
     "name": "stdout",
     "output_type": "stream",
     "text": [
      "200\n"
     ]
    }
   ],
   "source": [
    "# 2. Write a Python Program to find largest element in an array?\n",
    "A=[200,4,6.8,4,39]\n",
    "b=0\n",
    "l=len(A)\n",
    "for x in A:\n",
    "    for y in A:\n",
    "        if x>y:\n",
    "            continue\n",
    "        else:\n",
    "            x=y\n",
    "print(x)\n",
    "        \n"
   ]
  },
  {
   "cell_type": "code",
   "execution_count": 26,
   "id": "eb33fe13-2963-40f9-9d8d-a476a7be2df4",
   "metadata": {},
   "outputs": [
    {
     "name": "stdout",
     "output_type": "stream",
     "text": [
      "[99, 4.8, 'Vaibhav', (2+7j), 3, 22]\n"
     ]
    }
   ],
   "source": [
    "# 3. Write a Python Program for array rotation?\n",
    "B=[22,3,2+7j,\"Vaibhav\",4.8,99]\n",
    "print(B[-1::-1])"
   ]
  },
  {
   "cell_type": "code",
   "execution_count": 31,
   "id": "e7bc295a-0fd7-4526-bceb-417c6652df0c",
   "metadata": {},
   "outputs": [
    {
     "name": "stdout",
     "output_type": "stream",
     "text": [
      "[3, (2+7j), 'Vaibhav', 4.8, 99, 22]\n"
     ]
    }
   ],
   "source": [
    "#4. Write a Python Program to Split the array and add the first part to the end?\n",
    "B=[22,3,2+7j,\"Vaibhav\",4.8,99]\n",
    "B.remove(22)\n",
    "B.append(22)\n",
    "print(B)"
   ]
  },
  {
   "cell_type": "code",
   "execution_count": 42,
   "id": "13cd9ce0-6e99-4fb4-971b-dfab12860cf4",
   "metadata": {},
   "outputs": [
    {
     "name": "stdout",
     "output_type": "stream",
     "text": [
      "List is Monotonic Decreasing\n"
     ]
    }
   ],
   "source": [
    "#5. Write a Python Program to check if given array is Monotonic?\n",
    "A=[5,4,3,2,10]\n",
    "b=len(A)\n",
    "\n",
    "for x in range(0,b-1):\n",
    "    if A[x]<A[x+1]:\n",
    "        monotonic_flag = \"List is Monotonic Increasing\"\n",
    "        continue        \n",
    "    elif A[x]>A[x+1]:\n",
    "        monotonic_flag = \"List is Monotonic Decreasing\"\n",
    "        continue        \n",
    "    else:\n",
    "        print(\"List not correct to calculate Monotonic\")\n",
    "print(monotonic_flag)\n",
    "\n",
    "    \n",
    "\n",
    "        \n",
    "        \n",
    "    \n"
   ]
  },
  {
   "cell_type": "code",
   "execution_count": null,
   "id": "87cc675d-65a0-4136-b45b-3267404308c9",
   "metadata": {},
   "outputs": [],
   "source": []
  }
 ],
 "metadata": {
  "kernelspec": {
   "display_name": "Python 3 (ipykernel)",
   "language": "python",
   "name": "python3"
  },
  "language_info": {
   "codemirror_mode": {
    "name": "ipython",
    "version": 3
   },
   "file_extension": ".py",
   "mimetype": "text/x-python",
   "name": "python",
   "nbconvert_exporter": "python",
   "pygments_lexer": "ipython3",
   "version": "3.10.6"
  }
 },
 "nbformat": 4,
 "nbformat_minor": 5
}
