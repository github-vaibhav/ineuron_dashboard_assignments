{
  "nbformat": 4,
  "nbformat_minor": 0,
  "metadata": {
    "colab": {
      "provenance": [],
      "collapsed_sections": []
    },
    "kernelspec": {
      "name": "python3",
      "display_name": "Python 3"
    },
    "language_info": {
      "name": "python"
    }
  },
  "cells": [
    {
      "cell_type": "markdown",
      "source": [
        "1. Write a Python Program to Find the Factorial of a Number?"
      ],
      "metadata": {
        "id": "H8GJXcvPIDi6"
      }
    },
    {
      "cell_type": "code",
      "source": [
        "num = int(input(\"Enter any number for which factorial needs to be calculated: \"))\n",
        "for x in range(1,num):\n",
        "  num = num*x\n",
        "print(num)"
      ],
      "metadata": {
        "colab": {
          "base_uri": "https://localhost:8080/"
        },
        "id": "uzSiMhYqIC-M",
        "outputId": "c13c9ad2-31ba-4a34-c20c-0a5ab65f6f80"
      },
      "execution_count": null,
      "outputs": [
        {
          "output_type": "stream",
          "name": "stdout",
          "text": [
            "Enter any number for which factorial needs to be calculated: 4\n",
            "24\n"
          ]
        }
      ]
    },
    {
      "cell_type": "markdown",
      "source": [
        "2. Write a Python Program to Display the multiplication Table?"
      ],
      "metadata": {
        "id": "DrxTOBH-Ji7w"
      }
    },
    {
      "cell_type": "code",
      "source": [
        "table = int(input(\"Enter any number for which factorial needs to be calculated: \"))\n",
        "for y in range(1,11):\n",
        "  num2 = table*y\n",
        "  print(f\"{table} * {y} = {num2} \")"
      ],
      "metadata": {
        "colab": {
          "base_uri": "https://localhost:8080/"
        },
        "id": "btZjpNXWJkOZ",
        "outputId": "ada65db4-09b4-40fb-cb6e-ef8d91890841"
      },
      "execution_count": null,
      "outputs": [
        {
          "output_type": "stream",
          "name": "stdout",
          "text": [
            "Enter any number for which factorial needs to be calculated: 5\n",
            "5 * 1 = 5 \n",
            "5 * 2 = 10 \n",
            "5 * 3 = 15 \n",
            "5 * 4 = 20 \n",
            "5 * 5 = 25 \n",
            "5 * 6 = 30 \n",
            "5 * 7 = 35 \n",
            "5 * 8 = 40 \n",
            "5 * 9 = 45 \n",
            "5 * 10 = 50 \n"
          ]
        }
      ]
    },
    {
      "cell_type": "markdown",
      "source": [
        "3. Write a Python Program to Print the Fibonacci sequence?"
      ],
      "metadata": {
        "id": "EzMpB5ckKP04"
      }
    },
    {
      "cell_type": "code",
      "source": [
        "sum=a=0\n",
        "b=1\n",
        "lis=[]\n",
        "for i in range(1,10):  \n",
        "  d=sum\n",
        "  lis.append(sum)\n",
        "  a=b\n",
        "  b=sum\n",
        "  sum=a+b\n",
        "#print(lis)\n",
        "length = len(lis)\n",
        "for x in range(0,length):\n",
        " print(lis[x])\n"
      ],
      "metadata": {
        "colab": {
          "base_uri": "https://localhost:8080/"
        },
        "id": "T7-yp8pl-7m_",
        "outputId": "ac5f0aa1-69ce-452c-871f-1289023bad1d"
      },
      "execution_count": 44,
      "outputs": [
        {
          "output_type": "stream",
          "name": "stdout",
          "text": [
            "0\n",
            "1\n",
            "1\n",
            "2\n",
            "3\n",
            "5\n",
            "8\n",
            "13\n",
            "21\n"
          ]
        }
      ]
    },
    {
      "cell_type": "markdown",
      "source": [
        "4. Write a Python Program to Check Armstrong Number?"
      ],
      "metadata": {
        "id": "PAmh_7kfFKIe"
      }
    },
    {
      "cell_type": "code",
      "source": [
        "num = input(\"Enter any number to check if it's armstrong number: \")\n",
        "length=len(num)\n",
        "sum=0\n",
        "for i in range(0,length):\n",
        " a=int(num[i])\n",
        " sum=sum+a**3\n",
        "print(f\"sum = {sum}\")\n",
        "if sum==int(num):\n",
        "  print(f\"{num} is an Armstrong number\")\n",
        "else:\n",
        "  print(f\"{num} is NOT an Armstrong number\")"
      ],
      "metadata": {
        "colab": {
          "base_uri": "https://localhost:8080/"
        },
        "id": "OPicrul6FMpa",
        "outputId": "97e5a6df-0593-48cf-ad95-c7d21783cfd2"
      },
      "execution_count": 79,
      "outputs": [
        {
          "output_type": "stream",
          "name": "stdout",
          "text": [
            "Enter any number to check if it's armstrong number: 153\n",
            "sum = 153\n",
            "153 is an Armstrong number\n"
          ]
        }
      ]
    },
    {
      "cell_type": "markdown",
      "source": [
        "5. Write a Python Program to Find Armstrong Number in an Interval?"
      ],
      "metadata": {
        "id": "MvBRxEBSMJ49"
      }
    },
    {
      "cell_type": "code",
      "source": [
        "for y in range(0,400):\n",
        " length=len(str(y)) \n",
        " sum=0\n",
        " for x in range(0,length):  \n",
        "  \n",
        "  b=str(y)\n",
        "  a=int(b[x])\n",
        "  sum=sum+a**3 \n",
        " if sum==y:\n",
        "  print(f\"{y} is an Armstrong number\")\n",
        " else:\n",
        "  continue\n",
        "  #print(f\"{y} is NOT an Armstrong number\")"
      ],
      "metadata": {
        "colab": {
          "base_uri": "https://localhost:8080/"
        },
        "id": "sgKR9u_cMLll",
        "outputId": "82e94f5d-87bc-4d03-d8ef-8288d9cfa8ff"
      },
      "execution_count": 92,
      "outputs": [
        {
          "output_type": "stream",
          "name": "stdout",
          "text": [
            "0 is an Armstrong number\n",
            "1 is an Armstrong number\n",
            "153 is an Armstrong number\n",
            "370 is an Armstrong number\n",
            "371 is an Armstrong number\n"
          ]
        }
      ]
    },
    {
      "cell_type": "markdown",
      "source": [
        "6. Write a Python Program to Find the Sum of Natural Numbers?"
      ],
      "metadata": {
        "id": "nu_rEuThtYKu"
      }
    },
    {
      "cell_type": "code",
      "source": [
        "r = int(input(\"Enter final number of the range till where you want to calculate sum: \"))\n",
        "sum=0\n",
        "for x in range(1,r):\n",
        "  sum=sum+x\n",
        "print(sum+r)"
      ],
      "metadata": {
        "colab": {
          "base_uri": "https://localhost:8080/"
        },
        "id": "tOkd41O3tZZ8",
        "outputId": "bd15e736-e9bb-472a-de67-fa4de3fc1b1e"
      },
      "execution_count": 96,
      "outputs": [
        {
          "output_type": "stream",
          "name": "stdout",
          "text": [
            "Enter final number of the range till where you want to calculate sum: 10\n",
            "55\n"
          ]
        }
      ]
    }
  ]
}