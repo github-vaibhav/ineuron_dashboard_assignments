{
 "cells": [
  {
   "cell_type": "code",
   "execution_count": 5,
   "id": "6100d6ac-7325-4690-8f7b-acc48841e4e1",
   "metadata": {},
   "outputs": [],
   "source": [
    "# Question1\n",
    "# Create a function that takes a string and returns a string in which each character is repeated\n",
    "# once.\n",
    "# Examples\n",
    "# double_char(\"String\") ➞ \"SSttrriinngg\"\n",
    "# double_char(\"Hello World!\") ➞\"HHeelllloo WWoorrlldd!!\"\n",
    "# double_char(\"1234!_\") ➞ \"11223344!!__\"\n",
    "\n",
    "\n",
    "def double_char(a):\n",
    "    m=\"\"\n",
    "    l=len(a)\n",
    "    for x in range (0,l):\n",
    "        m=m+a[x]+a[x]\n",
    "    print(m)\n",
    "    "
   ]
  },
  {
   "cell_type": "code",
   "execution_count": 9,
   "id": "dd3696d5-978e-4ce9-8038-ca9f5db07010",
   "metadata": {},
   "outputs": [
    {
     "name": "stdout",
     "output_type": "stream",
     "text": [
      "11223344__!!@@$$\n"
     ]
    }
   ],
   "source": [
    "double_char(\"1234_!@$\")"
   ]
  },
  {
   "cell_type": "code",
   "execution_count": 39,
   "id": "44c7a928-8056-4949-a60f-7608ca2aece9",
   "metadata": {},
   "outputs": [],
   "source": [
    "# Question2\n",
    "# Create a function that reverses a boolean value and returns the string \"boolean expected\" if another variable type is given.\n",
    "# Examples\n",
    "# reverse(True) ➞ False\n",
    "# reverse(False) ➞ True\n",
    "# reverse(0) ➞ \"boolean expected\"\n",
    "# reverse(None) ➞ \"boolean expected\"\n",
    "\n",
    "\n",
    "def reverse(a):\n",
    "    if type(a)==bool and bool(a)== True:\n",
    "        print(\"False\")\n",
    "    elif type(a) == bool and bool(a) == False:\n",
    "        print(\"True\")\n",
    "    else:\n",
    "        print(\"Boolean expected\")      \n",
    "    \n"
   ]
  },
  {
   "cell_type": "code",
   "execution_count": 44,
   "id": "5cbe05a0-f3c4-42df-a09e-fc07936f294d",
   "metadata": {},
   "outputs": [
    {
     "name": "stdout",
     "output_type": "stream",
     "text": [
      "False\n"
     ]
    }
   ],
   "source": [
    "reverse(True)"
   ]
  },
  {
   "cell_type": "code",
   "execution_count": 49,
   "id": "f0996765-47bd-4f12-b152-7eb5be6dd34f",
   "metadata": {},
   "outputs": [],
   "source": [
    "# Question3\n",
    "# Create a function that returns the thickness (in meters) of a piece of paper after folding it n\n",
    "# number of times. The paper starts off with a thickness of 0.5mm.\n",
    "# Examples\n",
    "# num_layers(1) ➞ \"0.001m\"\n",
    "# # Paper folded once is 1mm (equal to 0.001m)\n",
    "# num_layers(4) ➞ &quot;0.008m&quot;\n",
    "# # Paper folded 4 times is 8mm (equal to 0.008m)\n",
    "# num_layers(21) ➞ &quot;1048.576m&quot;\n",
    "# # Paper folded 21 times is 1048576mm (equal to 1048.576m)\n",
    "\n",
    "def num_layers(n):\n",
    "    m=1\n",
    "    for x in range (1,n):\n",
    "        m=m*2\n",
    "    print(f\"Paper folded {n} times is {m/1000}m thick\")\n"
   ]
  },
  {
   "cell_type": "code",
   "execution_count": 50,
   "id": "2f677c0a-88c0-4a3a-8d2d-e55ea15fc816",
   "metadata": {},
   "outputs": [
    {
     "name": "stdout",
     "output_type": "stream",
     "text": [
      "Paper folded 21 times is 1048.576m thick\n"
     ]
    }
   ],
   "source": [
    "num_layers(21)"
   ]
  },
  {
   "cell_type": "code",
   "execution_count": 64,
   "id": "a0071e1e-a532-4fd0-a9f9-7f176bce790a",
   "metadata": {},
   "outputs": [],
   "source": [
    "# Question 4\n",
    "# Create a function that takes a single string as argument and returns an ordered list containing\n",
    "# the indices of all capital letters in the string.\n",
    "# Examples\n",
    "# index_of_caps(\"eDaBiT\") ➞ [1, 3, 5]\n",
    "# index_of_caps(\"eQuINoX\") ➞ [1, 3, 4, 6]\n",
    "# index_of_caps(\"determine\") ➞ []\n",
    "# index_of_caps(\"STRIKE\") ➞ [0, 1, 2, 3, 4, 5]\n",
    "# index_of_caps(\"sUn\") ➞ [1]\n",
    "\n",
    "\n",
    "def index_of_caps(a):\n",
    "    l=len(a)\n",
    "    lst=[]\n",
    "    for x in range(0,l):\n",
    "        if a[x].isupper():\n",
    "            lst.append(x)\n",
    "    print(lst)\n"
   ]
  },
  {
   "cell_type": "code",
   "execution_count": 65,
   "id": "d7c4de08-bf0c-462e-b347-d59f546f11ab",
   "metadata": {},
   "outputs": [
    {
     "name": "stdout",
     "output_type": "stream",
     "text": [
      "[0, 1, 3, 5, 6]\n"
     ]
    }
   ],
   "source": [
    "index_of_caps(\"ABcDeFGh\")"
   ]
  },
  {
   "cell_type": "code",
   "execution_count": 71,
   "id": "e5127e36-3db2-4b26-8153-c92839aba409",
   "metadata": {},
   "outputs": [],
   "source": [
    "# Question5\n",
    "# Using list comprehensions, create a function that finds all even numbers from 1 to the given\n",
    "# number.\n",
    "# Examples\n",
    "# find_even_nums(8) ➞ [2, 4, 6, 8]\n",
    "# find_even_nums(4) ➞ [2, 4]\n",
    "# find_even_nums(2) ➞ [2]\n",
    "\n",
    "def find_even_nums(a):\n",
    "    even=[]\n",
    "    for x in range(1,a+1):\n",
    "        if x%2==0:\n",
    "            even.append(x)\n",
    "    print(even)   \n"
   ]
  },
  {
   "cell_type": "code",
   "execution_count": 72,
   "id": "5d1b7bd6-16a7-4890-ad24-60caa43c630c",
   "metadata": {},
   "outputs": [
    {
     "name": "stdout",
     "output_type": "stream",
     "text": [
      "[2, 4, 6, 8, 10]\n"
     ]
    }
   ],
   "source": [
    "find_even_nums(10)"
   ]
  },
  {
   "cell_type": "code",
   "execution_count": null,
   "id": "abd7c900-a042-4607-a471-67121bea7f38",
   "metadata": {},
   "outputs": [],
   "source": []
  }
 ],
 "metadata": {
  "kernelspec": {
   "display_name": "Python 3 (ipykernel)",
   "language": "python",
   "name": "python3"
  },
  "language_info": {
   "codemirror_mode": {
    "name": "ipython",
    "version": 3
   },
   "file_extension": ".py",
   "mimetype": "text/x-python",
   "name": "python",
   "nbconvert_exporter": "python",
   "pygments_lexer": "ipython3",
   "version": "3.10.6"
  }
 },
 "nbformat": 4,
 "nbformat_minor": 5
}
