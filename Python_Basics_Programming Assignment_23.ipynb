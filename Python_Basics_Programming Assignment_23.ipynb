{
 "cells": [
  {
   "cell_type": "code",
   "execution_count": 17,
   "id": "33268295-58db-421b-a090-13e0e4b38a6e",
   "metadata": {},
   "outputs": [],
   "source": [
    "# Question 1\n",
    "# Create a function that takes a number as an argument and returns True or False depending\n",
    "# on whether the number is symmetrical or not. A number is symmetrical when it is the same as\n",
    "# its reverse.\n",
    "# Examples\n",
    "# is_symmetrical(7227) ➞ True\n",
    "# is_symmetrical(12567) ➞ False\n",
    "# is_symmetrical(44444444) ➞ True\n",
    "# is_symmetrical(9939) ➞ False\n",
    "# is_symmetrical(1112111) ➞ True\n",
    "\n",
    "\n",
    "def is_symmetrical(num):\n",
    "    lis = str(num)\n",
    "    a=lis[::-1]\n",
    "    if lis==a:\n",
    "        print(f\"True:{lis} and {a} are symmetrical\")\n",
    "    else:\n",
    "        print(f\"False: :{lis} and {a} are NOT symmetrical\")\n"
   ]
  },
  {
   "cell_type": "code",
   "execution_count": 20,
   "id": "34c28f08-2f6c-46a3-ab7d-fa9c7b5ff384",
   "metadata": {},
   "outputs": [
    {
     "name": "stdout",
     "output_type": "stream",
     "text": [
      "False: :1234 and 4321 are NOT symmetrical\n"
     ]
    }
   ],
   "source": [
    "is_symmetrical(1234)"
   ]
  },
  {
   "cell_type": "code",
   "execution_count": 29,
   "id": "507dd662-3093-489d-bae0-298b5a2851cf",
   "metadata": {},
   "outputs": [],
   "source": [
    "# Question 2\n",
    "# Given a string of numbers separated by a comma and space, return the product of the\n",
    "# numbers.\n",
    "# Examples\n",
    "# multiply_nums(\"2, 3\") ➞ 6\n",
    "# multiply_nums(\"1, 2, 3, 4\") ➞ 24\n",
    "# multiply_nums(\"54, 75, 453, 0\") ➞ 0\n",
    "# multiply_nums(\"10, -2\") ➞ -20\n",
    "\n",
    "\n",
    "def multiply_nums(lis):\n",
    "    a=1\n",
    "    for x in lis:\n",
    "        a=a*x\n",
    "    print(a)\n"
   ]
  },
  {
   "cell_type": "code",
   "execution_count": 32,
   "id": "a01d9a00-a8e7-4200-a7cc-434de6b0e20a",
   "metadata": {},
   "outputs": [
    {
     "name": "stdout",
     "output_type": "stream",
     "text": [
      "-40\n"
     ]
    }
   ],
   "source": [
    "multiply_nums([4,5,-2])"
   ]
  },
  {
   "cell_type": "code",
   "execution_count": 48,
   "id": "70f46769-1ef0-427e-af04-4f03be7b65f6",
   "metadata": {},
   "outputs": [],
   "source": [
    "# Question 3\n",
    "# Create a function that squares every digit of a number.\n",
    "# Examples\n",
    "# square_digits(9119) ➞ 811181\n",
    "# square_digits(2483) ➞ 416649\n",
    "# square_digits(3212) ➞ 9414\n",
    "# Notes\n",
    "# The function receives an integer and must return an integer.\n",
    "\n",
    "\n",
    "def square_digits(a):\n",
    "    l=str(a)\n",
    "    b=\" \"\n",
    "    for x in l:\n",
    "        c=int(x)*int(x)\n",
    "        b=b+str(c)\n",
    "    print(b)\n"
   ]
  },
  {
   "cell_type": "code",
   "execution_count": 50,
   "id": "76d3dcdd-edd0-4be3-ae6c-d7a0b1506fcd",
   "metadata": {},
   "outputs": [
    {
     "name": "stdout",
     "output_type": "stream",
     "text": [
      " 4040\n"
     ]
    }
   ],
   "source": [
    "square_digits(2020)"
   ]
  },
  {
   "cell_type": "code",
   "execution_count": 42,
   "id": "86677404-c1c0-459c-90c1-4bc109fe7515",
   "metadata": {},
   "outputs": [],
   "source": [
    "# Question 4\n",
    "# Create a function that sorts a list and removes all duplicate items from it.\n",
    "# Examples\n",
    "# setify([1, 3, 3, 5, 5]) ➞ [1, 3, 5]\n",
    "# setify([4, 4, 4, 4]) ➞ [4]\n",
    "# setify([5, 7, 8, 9, 10, 15]) ➞ [5, 7, 8, 9, 10, 15]\n",
    "# setify([3, 3, 3, 2, 1]) ➞ [1, 2, 3]\n",
    "\n",
    "\n",
    "\n",
    "def setif(a):\n",
    "    b=[]\n",
    "    c=[]\n",
    "    l=len(a)\n",
    "    for x in range(0,l):\n",
    "        if a.count(a[x])>1:\n",
    "            if b.count(a[x])==0:\n",
    "                b.append(a[x])\n",
    "        elif a.count(a[x])==1:\n",
    "            b.append(a[x])\n",
    "    b.sort()\n",
    "    print(b)\n"
   ]
  },
  {
   "cell_type": "code",
   "execution_count": 43,
   "id": "22a15861-e8fb-44f1-93d9-0b3ca2149928",
   "metadata": {},
   "outputs": [
    {
     "name": "stdout",
     "output_type": "stream",
     "text": [
      "[2, 3, 4, 5]\n"
     ]
    }
   ],
   "source": [
    "setif([4,3,2,5])"
   ]
  },
  {
   "cell_type": "code",
   "execution_count": 50,
   "id": "a6c969da-9493-4fce-9634-9d77a14dd970",
   "metadata": {},
   "outputs": [
    {
     "name": "stdout",
     "output_type": "stream",
     "text": [
      "5\n",
      "3\n"
     ]
    }
   ],
   "source": [
    "# Create a function that returns the mean of all digits.\n",
    "# Examples\n",
    "# mean(42) ➞ 3\n",
    "# mean(12345) ➞ 3\n",
    "# mean(666) ➞ 6\n",
    "# Notes\n",
    "#  The mean of all digits is the sum of digits / how many digits there are (e.g. mean of digits in\n",
    "# 512 is (5+1+2)/3(number of digits) = 8/3=2).\n",
    "#  The mean will always be an integer.\n",
    "\n",
    "\n",
    "\n",
    "def mean(a):\n",
    "\n",
    "b=str(a)\n",
    "l=len(b)\n",
    "c=0\n",
    "print(l)\n",
    "for x in b:\n",
    "    c=c+int(x)\n",
    "d=c/l\n",
    "print(int(d))\n",
    "\n",
    "    \n",
    "    \n",
    "\n",
    "\n",
    "\n"
   ]
  },
  {
   "cell_type": "code",
   "execution_count": null,
   "id": "208b5a68-9838-4f3d-b414-53ff7633010f",
   "metadata": {},
   "outputs": [],
   "source": []
  }
 ],
 "metadata": {
  "kernelspec": {
   "display_name": "Python 3 (ipykernel)",
   "language": "python",
   "name": "python3"
  },
  "language_info": {
   "codemirror_mode": {
    "name": "ipython",
    "version": 3
   },
   "file_extension": ".py",
   "mimetype": "text/x-python",
   "name": "python",
   "nbconvert_exporter": "python",
   "pygments_lexer": "ipython3",
   "version": "3.10.6"
  }
 },
 "nbformat": 4,
 "nbformat_minor": 5
}
