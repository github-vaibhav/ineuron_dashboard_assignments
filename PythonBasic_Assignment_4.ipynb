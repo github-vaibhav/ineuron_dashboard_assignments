{
  "nbformat": 4,
  "nbformat_minor": 0,
  "metadata": {
    "colab": {
      "provenance": [],
      "collapsed_sections": []
    },
    "kernelspec": {
      "name": "python3",
      "display_name": "Python 3"
    },
    "language_info": {
      "name": "python"
    }
  },
  "cells": [
    {
      "cell_type": "markdown",
      "source": [
        "#### 1. What exactly is []?\n",
        "\n",
        "These index brackets are used to declare lists. If we pass a value within these brackets then it signifies the position within the list.\n",
        "\n",
        "For example list = [1,2,3,4]\n",
        "list[0] signifies value 1 from the list"
      ],
      "metadata": {
        "id": "XR6nG3DFcE8y"
      }
    },
    {
      "cell_type": "markdown",
      "source": [
        "#### 2. In a list of values stored in a variable called spam, how would you assign the value \"hello\" as the third value? (Assume [2, 4, 6, 8, 10] are in spam.)"
      ],
      "metadata": {
        "id": "Lakkazu-YgUz"
      }
    },
    {
      "cell_type": "code",
      "execution_count": 13,
      "metadata": {
        "colab": {
          "base_uri": "https://localhost:8080/"
        },
        "id": "Ow3bWY_hYcIa",
        "outputId": "5466880c-d721-47c9-d15a-eb6c345ac4b7"
      },
      "outputs": [
        {
          "output_type": "stream",
          "name": "stdout",
          "text": [
            "[2, 4, 'Hello', 8, 10]\n"
          ]
        }
      ],
      "source": [
        "spam = [2,4,6,8,10]\n",
        "spam[2] = \"Hello\"\n",
        "print(spam)"
      ]
    },
    {
      "cell_type": "code",
      "source": [
        "# 3\n",
        "spam = ['a','b','c','d']\n",
        "spam[int(int('3'*2) / 11)] # '3'*2 means 33/11 = 3. and int(int(3)) is 3 hence it dispalys spam[3] value which is d"
      ],
      "metadata": {
        "colab": {
          "base_uri": "https://localhost:8080/",
          "height": 35
        },
        "id": "rqqLx-PzbUfU",
        "outputId": "2aa960e6-17fa-458a-b58e-73b32a320d7b"
      },
      "execution_count": 14,
      "outputs": [
        {
          "output_type": "execute_result",
          "data": {
            "text/plain": [
              "'d'"
            ],
            "application/vnd.google.colaboratory.intrinsic+json": {
              "type": "string"
            }
          },
          "metadata": {},
          "execution_count": 14
        }
      ]
    },
    {
      "cell_type": "code",
      "source": [
        "#4\n",
        "spam[-1] # -ve value signifies reverse order and since it is -1 it means 1st value from reverse order"
      ],
      "metadata": {
        "colab": {
          "base_uri": "https://localhost:8080/",
          "height": 35
        },
        "id": "lPfRbHGkboMI",
        "outputId": "7f4c8bc3-472c-4048-f7ee-b5cccf5383c8"
      },
      "execution_count": 15,
      "outputs": [
        {
          "output_type": "execute_result",
          "data": {
            "text/plain": [
              "'d'"
            ],
            "application/vnd.google.colaboratory.intrinsic+json": {
              "type": "string"
            }
          },
          "metadata": {},
          "execution_count": 15
        }
      ]
    },
    {
      "cell_type": "code",
      "source": [
        "#5\n",
        "spam[:2] # it means it will start from 0th position and stop at position 2 hence it displays a and b from spam[0] and spam[1] position."
      ],
      "metadata": {
        "colab": {
          "base_uri": "https://localhost:8080/"
        },
        "id": "zPWCiIQ8btG-",
        "outputId": "d5390895-9608-4d1a-eeed-54c5eab447ec"
      },
      "execution_count": 16,
      "outputs": [
        {
          "output_type": "execute_result",
          "data": {
            "text/plain": [
              "['a', 'b']"
            ]
          },
          "metadata": {},
          "execution_count": 16
        }
      ]
    },
    {
      "cell_type": "markdown",
      "source": [
        "Let's pretend bacon has the list [3.14, 'cat',11, 'cat',True] for the next three questions.\n",
        "6. What is the value of bacon.index('cat')?"
      ],
      "metadata": {
        "id": "bWy2WWL3d18u"
      }
    },
    {
      "cell_type": "code",
      "source": [
        "bacon = [3.14, 'cat',11, 'cat',True]\n",
        "bacon.index('cat')  # it shows index position of cat which is 1 ----> bacon[1] = cat"
      ],
      "metadata": {
        "colab": {
          "base_uri": "https://localhost:8080/"
        },
        "id": "QzbxS6BLeaEa",
        "outputId": "60282c8d-47a1-44fd-c161-fc435d7f55ca"
      },
      "execution_count": 17,
      "outputs": [
        {
          "output_type": "execute_result",
          "data": {
            "text/plain": [
              "1"
            ]
          },
          "metadata": {},
          "execution_count": 17
        }
      ]
    },
    {
      "cell_type": "code",
      "source": [
        "# 7. How does bacon.append(99) change the look of the list value in bacon?\n",
        "bacon = [3.14, 'cat',11, 'cat',True]\n",
        "bacon.append(99)  # it adds another value to the list towards the end of the list\n",
        "print(bacon)"
      ],
      "metadata": {
        "colab": {
          "base_uri": "https://localhost:8080/"
        },
        "id": "3C8AsNMxew-3",
        "outputId": "8ff4ff20-972c-4860-c6cd-f6bb9f21af53"
      },
      "execution_count": 21,
      "outputs": [
        {
          "output_type": "stream",
          "name": "stdout",
          "text": [
            "[3.14, 'cat', 11, 'cat', True, 99]\n"
          ]
        }
      ]
    },
    {
      "cell_type": "code",
      "source": [
        "# 8. How does bacon.remove('cat') change the look of the list in bacon?\n",
        "bacon.remove('cat')  # it removes the 1st occurence of cat from the list\n",
        "print(bacon)"
      ],
      "metadata": {
        "colab": {
          "base_uri": "https://localhost:8080/"
        },
        "id": "eAXuRBvufHy6",
        "outputId": "1d9bbcbe-18ce-40b0-888d-c5ad019cd695"
      },
      "execution_count": 22,
      "outputs": [
        {
          "output_type": "stream",
          "name": "stdout",
          "text": [
            "[3.14, 11, 'cat', True, 99]\n"
          ]
        }
      ]
    },
    {
      "cell_type": "markdown",
      "source": [
        "9. What are the list concatenation and list replication operators?"
      ],
      "metadata": {
        "id": "W7xglyjbfzg-"
      }
    },
    {
      "cell_type": "code",
      "source": [
        "words = [\"Welcome\",\"to\",\"iNeuron\"]\n",
        "word_s = [\"class\",\"related\",\"to\",\"Python\"]\n",
        "final_list = words+word_s  # list concatenation done by + operator\n",
        "print(final_list)"
      ],
      "metadata": {
        "colab": {
          "base_uri": "https://localhost:8080/"
        },
        "id": "_cKwfSulf2Xt",
        "outputId": "152db69c-dc25-4749-cf09-995c338e10ab"
      },
      "execution_count": 24,
      "outputs": [
        {
          "output_type": "stream",
          "name": "stdout",
          "text": [
            "['Welcome', 'to', 'iNeuron', 'class', 'related', 'to', 'Python']\n"
          ]
        }
      ]
    },
    {
      "cell_type": "code",
      "source": [
        "print(final_list*2) # list replication operator is *"
      ],
      "metadata": {
        "colab": {
          "base_uri": "https://localhost:8080/"
        },
        "id": "6HojZg5zgzO4",
        "outputId": "8297d49d-a90b-4a62-be14-0bec8a116e49"
      },
      "execution_count": 25,
      "outputs": [
        {
          "output_type": "stream",
          "name": "stdout",
          "text": [
            "['Welcome', 'to', 'iNeuron', 'class', 'related', 'to', 'Python', 'Welcome', 'to', 'iNeuron', 'class', 'related', 'to', 'Python']\n"
          ]
        }
      ]
    },
    {
      "cell_type": "markdown",
      "source": [
        "10. What is difference between the list methods append() and insert()?"
      ],
      "metadata": {
        "id": "SfH5Z9-QhCc4"
      }
    },
    {
      "cell_type": "code",
      "source": [
        "fruits = [\"apple\", \"banana\", \"cherry\"]\n",
        "fruits.append(\"orange\") # appends adds the given value to the end of list\n",
        "print(fruits)"
      ],
      "metadata": {
        "colab": {
          "base_uri": "https://localhost:8080/"
        },
        "id": "DP-AFmh0hA7o",
        "outputId": "8f717ee8-d7d6-4bba-fec5-ec10fdf2b41d"
      },
      "execution_count": 28,
      "outputs": [
        {
          "output_type": "stream",
          "name": "stdout",
          "text": [
            "['apple', 'banana', 'cherry', 'orange']\n"
          ]
        }
      ]
    },
    {
      "cell_type": "code",
      "source": [
        "fruits = ['apple', 'banana', 'cherry']\n",
        "fruits.insert(1, \"Kiwi\") #insert adds the given value at the defined location within list\n",
        "print(fruits)"
      ],
      "metadata": {
        "colab": {
          "base_uri": "https://localhost:8080/"
        },
        "id": "AKH4cHISiMI8",
        "outputId": "2ca1283f-4341-4f33-f12c-b95b3b8d86b9"
      },
      "execution_count": 30,
      "outputs": [
        {
          "output_type": "stream",
          "name": "stdout",
          "text": [
            "['apple', 'Kiwi', 'banana', 'cherry']\n"
          ]
        }
      ]
    },
    {
      "cell_type": "markdown",
      "source": [
        "#### 11. What are the two methods for removing items from a list?"
      ],
      "metadata": {
        "id": "0QjYt_58iebz"
      }
    },
    {
      "cell_type": "code",
      "source": [
        "cars = [\"Honda\",\"Ford\",\"Suzuki\",\"Toyota\"]\n",
        "cars.remove(\"Toyota\") # one way is by using remove function\n",
        "print(cars)"
      ],
      "metadata": {
        "colab": {
          "base_uri": "https://localhost:8080/"
        },
        "id": "pnhUvM4qigB9",
        "outputId": "a268b910-7a77-4069-c4c1-167385571122"
      },
      "execution_count": 33,
      "outputs": [
        {
          "output_type": "stream",
          "name": "stdout",
          "text": [
            "['Honda', 'Ford', 'Suzuki']\n"
          ]
        }
      ]
    },
    {
      "cell_type": "code",
      "source": [
        "del cars[1] # another way of removing an item is by using a del keyword where we need to pass list index\n",
        "print(cars)"
      ],
      "metadata": {
        "colab": {
          "base_uri": "https://localhost:8080/"
        },
        "id": "M1pZkGlQjl1Q",
        "outputId": "eb2da5dd-bf99-43d7-9e07-1a3ad1488060"
      },
      "execution_count": 34,
      "outputs": [
        {
          "output_type": "stream",
          "name": "stdout",
          "text": [
            "['Honda', 'Suzuki']\n"
          ]
        }
      ]
    },
    {
      "cell_type": "markdown",
      "source": [
        "#### 12. Describe how list values and string values are identical.\n",
        "\n",
        "List and string both are sequence of characters but the list can have values of different data types. \n",
        "Also multiple strings together can make up one list. "
      ],
      "metadata": {
        "id": "HmPy-cjuj-Yi"
      }
    },
    {
      "cell_type": "markdown",
      "source": [
        "#### 13. What's the difference between tuples and lists?\n",
        "\n",
        "Just like lists tuples can also store multiple values under a single variable but they cannot be altered once created which means we cannot add or remove items from tuples."
      ],
      "metadata": {
        "id": "aAfPlNEQk-zM"
      }
    },
    {
      "cell_type": "code",
      "source": [
        "# 14. How do you type a tuple value that only contains the integer 42?\n",
        "newtuple = (42,) # To create a tuple with only one item, you have to add a comma after the item, otherwise Python will not recognize it as a tuple\n",
        "print(type(newtuple))"
      ],
      "metadata": {
        "colab": {
          "base_uri": "https://localhost:8080/"
        },
        "id": "stbCMUr8mQpF",
        "outputId": "8be27c0b-660b-4fbd-b9a0-d8b15c97d526"
      },
      "execution_count": 36,
      "outputs": [
        {
          "output_type": "stream",
          "name": "stdout",
          "text": [
            "<class 'tuple'>\n"
          ]
        }
      ]
    },
    {
      "cell_type": "markdown",
      "source": [
        "#### 15. How do you get a list value's tuple form? How do you get a tuple value's list form?\n",
        "\n",
        "Elements of a tuple can be enclosed within in a list followed by same characteristics of a list. For example\n",
        "tuple1 = (1,2,3,4)\n",
        "tuple2 = (\"A\",\"B\",\"C\")\n",
        "listoftuples = [(1,2,3,4),(\"A\",\"B\",\"C\")]\n"
      ],
      "metadata": {
        "id": "J9vKz1zhoGCU"
      }
    },
    {
      "cell_type": "code",
      "source": [
        "#convert list into tuple\n",
        "cars_list=['Honda', 'Ford', 'Toyota']\n",
        "tuple_cars= tuple(cars_list)\n",
        "print(tuple_cars)\n",
        "print(type(tuple_cars))"
      ],
      "metadata": {
        "colab": {
          "base_uri": "https://localhost:8080/"
        },
        "id": "I_FmFxWLrB0T",
        "outputId": "2ce7b6e9-f764-4226-fd20-efd9909ddb81"
      },
      "execution_count": 37,
      "outputs": [
        {
          "output_type": "stream",
          "name": "stdout",
          "text": [
            "('Honda', 'Ford', 'Toyota')\n",
            "<class 'tuple'>\n"
          ]
        }
      ]
    },
    {
      "cell_type": "code",
      "source": [
        "#convert tuple into list\n",
        "Mix_Tuple = (True, 28, 'Tiger')\n",
        " \n",
        "#tuple to list\n",
        "newList = list(Mix_Tuple)\n",
        " \n",
        "#print list\n",
        "print(type(newList))\n",
        "print(newList)"
      ],
      "metadata": {
        "colab": {
          "base_uri": "https://localhost:8080/"
        },
        "id": "8o3jTBJWrbtY",
        "outputId": "0ef1475e-f742-43fe-ded4-77c4582f4c85"
      },
      "execution_count": 38,
      "outputs": [
        {
          "output_type": "stream",
          "name": "stdout",
          "text": [
            "<class 'list'>\n",
            "[True, 28, 'Tiger']\n"
          ]
        }
      ]
    },
    {
      "cell_type": "markdown",
      "source": [
        "#### 16. Variables that &quot;contain&quot; list values are not necessarily lists themselves. Instead, what do they contain?\n",
        "\n",
        "They contain references to values."
      ],
      "metadata": {
        "id": "2CxrXSo6ro9-"
      }
    },
    {
      "cell_type": "markdown",
      "source": [
        "#### 17. How do you distinguish between copy.copy() and copy.deepcopy()?\n",
        "\n",
        "copy only creates a copy of the object but still stores the reference to each element of the object hence if we make any changes to the new copied object it will also change the value in the original object.\n",
        "\n",
        "In order to avoid above issue we use deepcopy where deepcopy creates a copy of the orginal object and along with all the elements and doesn't stores any reference to original object thereby if we make any changes to the new object it will not change anything on the old object.\n"
      ],
      "metadata": {
        "id": "Y6EM4brvsGx0"
      }
    },
    {
      "cell_type": "code",
      "source": [],
      "metadata": {
        "id": "380wCKx94LN9"
      },
      "execution_count": null,
      "outputs": []
    }
  ]
}