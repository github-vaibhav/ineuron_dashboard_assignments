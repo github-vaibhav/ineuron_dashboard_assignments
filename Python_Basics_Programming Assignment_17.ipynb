{
 "cells": [
  {
   "cell_type": "code",
   "execution_count": 3,
   "id": "8b967be7-31f7-4311-a6dc-8724e62f0890",
   "metadata": {},
   "outputs": [],
   "source": [
    "# Question1. Create a function that takes three arguments a, b, c and returns the sum of the\n",
    "# numbers that are evenly divided by c from the range a, b inclusive.\n",
    "# Examples\n",
    "# evenly_divisible(1, 10, 20) ➞ 0\n",
    "# # No number between 1 and 10 can be evenly divided by 20.\n",
    "# evenly_divisible(1, 10, 2) ➞ 30\n",
    "# # 2 + 4 + 6 + 8 + 10 = 30\n",
    "# evenly_divisible(1, 10, 3) ➞ 18\n",
    "# # 3 + 6 + 9 = 18\n",
    "\n",
    "def sum(a,b,c):\n",
    "    num=0\n",
    "    for x in range(a,b+1):\n",
    "        if (x%c)==0:\n",
    "            num=num+x\n",
    "    print(num)\n",
    "            \n",
    "        "
   ]
  },
  {
   "cell_type": "code",
   "execution_count": 7,
   "id": "967a77dc-8d70-4da4-ac76-cb10d77d7c43",
   "metadata": {},
   "outputs": [
    {
     "name": "stdout",
     "output_type": "stream",
     "text": [
      "18\n"
     ]
    }
   ],
   "source": [
    "sum(1,10,3)"
   ]
  },
  {
   "cell_type": "code",
   "execution_count": 17,
   "id": "4d0c4ce6-008f-45f2-bde8-a84f47bcb455",
   "metadata": {},
   "outputs": [],
   "source": [
    "# Question2. Create a function that returns True if a given inequality expression is correct and\n",
    "# False otherwise.\n",
    "# Examples\n",
    "# correct_signs(\"3 < 7 < 11\") ➞ True\n",
    "# correct_signs(\"13 > 44 > 33 > 1\") ➞ False\n",
    "# correct_signs(\"1 < 2 < 6 < 9 > 3\") ➞ True\n",
    "\n",
    "def correct_signs(a):\n",
    "    if a:\n",
    "        print(\"True\")\n",
    "    else:\n",
    "        print(\"False\")"
   ]
  },
  {
   "cell_type": "code",
   "execution_count": 16,
   "id": "bb99e334-52b3-4e68-afd5-1d44213f47d4",
   "metadata": {},
   "outputs": [
    {
     "name": "stdout",
     "output_type": "stream",
     "text": [
      "True\n"
     ]
    }
   ],
   "source": [
    "correct_signs(2>9<1)"
   ]
  },
  {
   "cell_type": "code",
   "execution_count": null,
   "id": "12884de4-e77e-48b9-b3c3-4327f331bdd8",
   "metadata": {},
   "outputs": [],
   "source": [
    "# Question3. Create a function that replaces all the vowels in a string with a specified character.\n",
    "# Examples\n",
    "# replace_vowels(\"the aardvark\", \"#\") ➞ \"th# ##rdv#rk\";\n",
    "# replace_vowels(\"minnie mouse\", \"?\") ➞ \"m?nn?? m??s?\";\n",
    "# replace_vowels(\"shakespeare\", \"*\") ➞ \"sh*k*sp**r*\";\n"
   ]
  },
  {
   "cell_type": "code",
   "execution_count": 1,
   "id": "c5890e1d-2ce4-4540-b31d-f8b418cf0f05",
   "metadata": {},
   "outputs": [],
   "source": [
    "def replace_vowels(a):\n",
    "    l=len(a)\n",
    "    print(l)\n",
    "    b=[]\n",
    "    for x in range (0,l):\n",
    "        if (a[x]==\"a\") or (a[x]==\"e\") or (a[x]==\"i\") or (a[x]==\"o\") or (a[x]==\"u\"):\n",
    "            a=a.replace(a[x],\"#\")\n",
    "    print(a)"
   ]
  },
  {
   "cell_type": "code",
   "execution_count": 5,
   "id": "f7442d8a-9495-46e5-a5d4-28f24b8ae7c7",
   "metadata": {},
   "outputs": [
    {
     "name": "stdout",
     "output_type": "stream",
     "text": [
      "12\n",
      "# #m v##bh#v\n"
     ]
    }
   ],
   "source": [
    "replace_vowels(\"i am vaibhav\")"
   ]
  },
  {
   "cell_type": "code",
   "execution_count": 8,
   "id": "b6aa8c84-2bee-4585-a896-e1fd92372f10",
   "metadata": {},
   "outputs": [],
   "source": [
    "# Question4. Write a function that calculates the factorial of a number recursively.\n",
    "# Examples\n",
    "# factorial(5) ➞ 120\n",
    "# factorial(3) ➞ 6\n",
    "# factorial(1) ➞ 1\n",
    "# factorial(0) ➞ 1\n",
    "\n",
    "def factorial(num):\n",
    "    a=1\n",
    "    for x in range (1,num+1):\n",
    "        a=a*x\n",
    "    print(a)"
   ]
  },
  {
   "cell_type": "code",
   "execution_count": 13,
   "id": "64d9ddac-d964-4ca3-9e53-8138ab95bb9a",
   "metadata": {},
   "outputs": [
    {
     "name": "stdout",
     "output_type": "stream",
     "text": [
      "720\n"
     ]
    }
   ],
   "source": [
    "factorial(6)"
   ]
  },
  {
   "cell_type": "code",
   "execution_count": null,
   "id": "ae153ece-947c-43e5-8119-22cef3d1eae3",
   "metadata": {},
   "outputs": [],
   "source": [
    "# Question 5\n",
    "# Hamming distance is the number of characters that differ between two strings.\n",
    "# To illustrate:\n",
    "# String1: \"abcbba\";\n",
    "# String2: \"abcbda\";\n",
    "# Hamming Distance: 1 - \"b\"vs \"d\" is the only difference.\n",
    "# Create a function that computes the hamming distance between two strings.\n",
    "# Examples\n",
    "# hamming_distance(\"abcde\", \"bcdef\") ➞ 5\n",
    "# hamming_distance(\"abcde\", \"abcde\") ➞ 0\n",
    "# hamming_distance(\"strong\",\"strung\") ➞ 1"
   ]
  },
  {
   "cell_type": "code",
   "execution_count": 9,
   "id": "66d8873f-61ba-49aa-ac1f-44f980b884a5",
   "metadata": {},
   "outputs": [],
   "source": [
    "def hamming_distance(string1,string2):\n",
    "    l = len(string1)\n",
    "    m=0\n",
    "    for x in range(0,l):\n",
    "        if string1[x]!=string2[x]:\n",
    "            m=m+1\n",
    "    print(\"Hamming Distance is\",m)\n"
   ]
  },
  {
   "cell_type": "code",
   "execution_count": 13,
   "id": "de02aecf-2404-42b4-8f63-df3f4dfa5b19",
   "metadata": {},
   "outputs": [
    {
     "name": "stdout",
     "output_type": "stream",
     "text": [
      "Hamming Distance is 3\n"
     ]
    }
   ],
   "source": [
    "hamming_distance(\"struck\",\"string\")"
   ]
  },
  {
   "cell_type": "code",
   "execution_count": null,
   "id": "6e0b3f4d-56dd-464c-8e6f-4c12ad24727c",
   "metadata": {},
   "outputs": [],
   "source": []
  }
 ],
 "metadata": {
  "kernelspec": {
   "display_name": "Python 3 (ipykernel)",
   "language": "python",
   "name": "python3"
  },
  "language_info": {
   "codemirror_mode": {
    "name": "ipython",
    "version": 3
   },
   "file_extension": ".py",
   "mimetype": "text/x-python",
   "name": "python",
   "nbconvert_exporter": "python",
   "pygments_lexer": "ipython3",
   "version": "3.10.6"
  }
 },
 "nbformat": 4,
 "nbformat_minor": 5
}
