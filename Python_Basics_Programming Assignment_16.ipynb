{
 "cells": [
  {
   "cell_type": "code",
   "execution_count": 12,
   "id": "7359ca63-79ca-4851-92f1-40c6ce135b14",
   "metadata": {},
   "outputs": [],
   "source": [
    "#Question1. Write a function that stutters a word as if someone is struggling to read it. \n",
    "#The first two letters are repeated twice with an ellipsis ... and space after each, and then the\n",
    "#word is pronounced with a question mark ?.\n",
    "\n",
    "def test1(str):    \n",
    "    A=str[0:2]\n",
    "    print(A+\"... \"+A+\"... \"+str)\n",
    "    \n"
   ]
  },
  {
   "cell_type": "code",
   "execution_count": 13,
   "id": "c282055c-c685-4bfc-8669-165d054701ba",
   "metadata": {},
   "outputs": [
    {
     "name": "stdout",
     "output_type": "stream",
     "text": [
      "va... va... vaibhav\n"
     ]
    }
   ],
   "source": [
    "test1(\"vaibhav\")"
   ]
  },
  {
   "cell_type": "code",
   "execution_count": 23,
   "id": "3439c7fa-2d50-422d-9c7b-476a40dd3860",
   "metadata": {},
   "outputs": [],
   "source": [
    "# Question 2.Create a function that takes an angle in radians and returns the corresponding\n",
    "# angle in degrees rounded to one decimal place.\n",
    "\n",
    "def radians_to_degree(a):\n",
    "    print(\"Vaiue in radians is: \",a)\n",
    "    deg = a*57.3\n",
    "    print(\"Value after converting in degree is: \",round(deg,1))\n",
    "    \n",
    "    \n"
   ]
  },
  {
   "cell_type": "code",
   "execution_count": 26,
   "id": "d57e107f-ff58-483e-b9db-46f3a790636d",
   "metadata": {},
   "outputs": [
    {
     "name": "stdout",
     "output_type": "stream",
     "text": [
      "Vaiue in radians is:  9.638736\n",
      "Value after converting in degree is:  552.3\n"
     ]
    }
   ],
   "source": [
    "radians_to_degree(9.638736)"
   ]
  },
  {
   "cell_type": "code",
   "execution_count": 53,
   "id": "a5079510-e919-425c-a340-4e46e5cc4a79",
   "metadata": {},
   "outputs": [],
   "source": [
    "# Question 3. In this challenge, establish if a given integer num is a Curzon number. If 1 plus\n",
    "# 2 elevated to num is exactly divisible by 1 plus 2 multiplied by num, then num is a Curzon number.\n",
    "\n",
    "def curzon(num):\n",
    "\n",
    "    a=2**num+1\n",
    "    b=2*num+1\n",
    "    if a%b==0:\n",
    "        print(f\"TRUE: {num} is a Curzon number\")\n",
    "    else:\n",
    "         print(f\"FALSE: {num} is NOT a Curzon number\")\n",
    "\n",
    "    "
   ]
  },
  {
   "cell_type": "code",
   "execution_count": 54,
   "id": "1a8e4b82-f6bf-47c8-8254-dd2751e33305",
   "metadata": {},
   "outputs": [
    {
     "name": "stdout",
     "output_type": "stream",
     "text": [
      "FALSE: 8 is NOT a Curzon number\n"
     ]
    }
   ],
   "source": [
    "curzon(8)"
   ]
  },
  {
   "cell_type": "code",
   "execution_count": 55,
   "id": "b6f02d94-53cd-49e1-83fc-38ed60acc7b5",
   "metadata": {},
   "outputs": [],
   "source": [
    "# Question 4.Given the side length x find the area of a hexagon.\n",
    "\n",
    "def hexagon_area(x):\n",
    "    Area = (3*1.732*x**2)/2\n",
    "    print(f\"Area of Heaxagon is :{Area}\")\n"
   ]
  },
  {
   "cell_type": "code",
   "execution_count": 58,
   "id": "2672c227-eb22-42ee-8323-eb2d4059bf9f",
   "metadata": {},
   "outputs": [
    {
     "name": "stdout",
     "output_type": "stream",
     "text": [
      "Area of Heaxagon is :2.598\n"
     ]
    }
   ],
   "source": [
    "hexagon_area(1)"
   ]
  },
  {
   "cell_type": "code",
   "execution_count": null,
   "id": "b5529f1d-f95d-4ff1-997b-c5d8d89ef1dd",
   "metadata": {},
   "outputs": [],
   "source": [
    "# Question 5. Create a function that returns a base-2 (binary) representation of a base-10\n",
    "# (decimal) string number. To convert is simple: ((2) means base-2 and (10) means base-10)\n",
    "# 010101001(2) = 1 + 8 + 32 + 128.\n",
    "# Going from right to left, the value of the most right bit is 1, now from that every bit to the left\n",
    "# will be x2 the value, value of an 8 bit binary numbers are (256, 128, 64, 32, 16, 8, 4, 2, 1).\n",
    "# Examples\n",
    "# binary(1) ➞ \"1\"\n",
    "# 1*1 = 1\n",
    "# binary(5) ➞ \"101\"\n",
    "# 1*1 + 1*4 = 5\n",
    "# binary(10) ➞ \"1010\"\n",
    "# 1*2 + 1*8 = 10 "
   ]
  },
  {
   "cell_type": "code",
   "execution_count": 20,
   "id": "5f8c8295-a95d-4466-b5d0-35d38f01e43b",
   "metadata": {},
   "outputs": [
    {
     "name": "stdin",
     "output_type": "stream",
     "text": [
      "Enter any base-10 number:  1010\n"
     ]
    },
    {
     "name": "stdout",
     "output_type": "stream",
     "text": [
      "10\n"
     ]
    }
   ],
   "source": [
    "num = input(\"Enter any base-10 number: \")\n",
    "l=len(num)\n",
    "number = num[::-1]\n",
    "n=1\n",
    "b=0\n",
    "for x in range (0,l): \n",
    "    a=0\n",
    "    a=int(number[x])*n\n",
    "    b=b+a\n",
    "    n=n+n\n",
    "    \n",
    "print(b)\n"
   ]
  },
  {
   "cell_type": "code",
   "execution_count": null,
   "id": "0af9f41e-710c-460c-b0e2-4902ed05775a",
   "metadata": {},
   "outputs": [],
   "source": []
  }
 ],
 "metadata": {
  "kernelspec": {
   "display_name": "Python 3 (ipykernel)",
   "language": "python",
   "name": "python3"
  },
  "language_info": {
   "codemirror_mode": {
    "name": "ipython",
    "version": 3
   },
   "file_extension": ".py",
   "mimetype": "text/x-python",
   "name": "python",
   "nbconvert_exporter": "python",
   "pygments_lexer": "ipython3",
   "version": "3.10.6"
  }
 },
 "nbformat": 4,
 "nbformat_minor": 5
}
