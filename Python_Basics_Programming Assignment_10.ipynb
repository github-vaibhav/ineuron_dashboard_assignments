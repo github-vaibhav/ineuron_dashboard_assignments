{
 "cells": [
  {
   "cell_type": "code",
   "execution_count": 2,
   "id": "d32a27f0-5e70-49af-a47e-3e8870f90c5e",
   "metadata": {},
   "outputs": [
    {
     "name": "stdout",
     "output_type": "stream",
     "text": [
      "Total sum is 4.4\n"
     ]
    }
   ],
   "source": [
    "#1. Write a Python program to find sum of elements in list?\n",
    "A=[1,2,3.4,2+3j,-2,\"Vaibhav\"]\n",
    "sum=0\n",
    "for x in A:\n",
    "    if type(x)==int or type(x)==float:\n",
    "        sum = sum+x\n",
    "print(\"Total sum is\",sum)"
   ]
  },
  {
   "cell_type": "code",
   "execution_count": 4,
   "id": "8e54edb2-91ca-49ed-904f-cd89a8295169",
   "metadata": {},
   "outputs": [
    {
     "name": "stdout",
     "output_type": "stream",
     "text": [
      "Multiplication of all numbers is 24.599999999999998\n"
     ]
    }
   ],
   "source": [
    "#2. Write a Python program to Multiply all numbers in the list?\n",
    "A=[1,2,3,4.1,2+3j,\"Vaibhav\"]\n",
    "mul=1\n",
    "for x in A:\n",
    "    if type(x)==int or type(x)==float:\n",
    "        mul = mul*x\n",
    "print(\"Multiplication of all numbers is\",mul)\n",
    "\n"
   ]
  },
  {
   "cell_type": "code",
   "execution_count": 15,
   "id": "50272841-28c6-4d03-8873-50096a1c1921",
   "metadata": {},
   "outputs": [
    {
     "name": "stdout",
     "output_type": "stream",
     "text": [
      "3\n"
     ]
    }
   ],
   "source": [
    "#3. Write a Python program to find smallest number in a list?\n",
    "A=[22,18,3,22]\n",
    "l=len(A)\n",
    "for x in A:\n",
    "    for y in range(0,l):\n",
    "        if x>A[y]:\n",
    "            x=A[y]\n",
    "        else:\n",
    "            continue\n",
    "    continue\n",
    "print(x)     \n",
    " \n",
    "    "
   ]
  },
  {
   "cell_type": "code",
   "execution_count": 7,
   "id": "dd605799-62fc-45ae-b3cc-b91a5b92a49a",
   "metadata": {},
   "outputs": [
    {
     "name": "stdout",
     "output_type": "stream",
     "text": [
      "Largest number in list is:  118\n"
     ]
    }
   ],
   "source": [
    "#4. Write a Python program to find largest number in a list?\n",
    "A=[2,118,30,3]\n",
    "l=len(A)\n",
    "for x in A:\n",
    "    for y in range(0,l):\n",
    "        if x>A[y]:\n",
    "            continue\n",
    "        else:\n",
    "            x=A[y]\n",
    "    continue\n",
    "print(\"Largest number in list is: \",x)\n"
   ]
  },
  {
   "cell_type": "code",
   "execution_count": 15,
   "id": "aacecb05-2fad-47ef-92af-66107e2c4ad7",
   "metadata": {},
   "outputs": [
    {
     "name": "stdout",
     "output_type": "stream",
     "text": [
      "Second largest number in the list is 234\n"
     ]
    }
   ],
   "source": [
    "#5. Write a Python program to find second largest number in a list?\n",
    "A=[234,128,3000,3]\n",
    "#B=max(A)\n",
    "A.remove(max(A))\n",
    "print(\"Second largest number in the list is\",max(A))\n",
    "\n"
   ]
  },
  {
   "cell_type": "code",
   "execution_count": 21,
   "id": "d0f2cf22-06bc-495b-b937-a82906a0fb1e",
   "metadata": {},
   "outputs": [
    {
     "name": "stdin",
     "output_type": "stream",
     "text": [
      "Enter Nth larget element you want to find:  5\n"
     ]
    },
    {
     "name": "stdout",
     "output_type": "stream",
     "text": [
      "5 largest number in the list is 34\n"
     ]
    }
   ],
   "source": [
    "#6. Write a Python program to find N largest elements from a list?\n",
    "A=[12,34,46,8,10,230,777,1,1.6,98.9]\n",
    "B=input(\"Enter Nth larget element you want to find: \")\n",
    "\n",
    "for x in range(1,int(B)):\n",
    "    A.remove(max(A))\n",
    "    D=max(A)\n",
    "print(B,\"largest number in the list is\",D)\n"
   ]
  },
  {
   "cell_type": "code",
   "execution_count": 1,
   "id": "d33975ad-441b-4e1f-8290-4b92ad874fbe",
   "metadata": {},
   "outputs": [
    {
     "name": "stdout",
     "output_type": "stream",
     "text": [
      "1  is an Odd number\n",
      "2  is an even number\n",
      "3  is an Odd number\n",
      "4  is an even number\n",
      "5  is an Odd number\n",
      "6  is an even number\n",
      "7  is an Odd number\n",
      "8  is an even number\n",
      "9  is an Odd number\n",
      "10  is an even number\n"
     ]
    }
   ],
   "source": [
    "#7. Write a Python program to print even numbers in a list?\n",
    "A=[1,2,3,4,5,6,7,8,9,10]\n",
    "for x in A:\n",
    "    if x%2==0:\n",
    "        print(x,\" is an even number\")\n",
    "    else:\n",
    "        print(x,\" is an Odd number\")"
   ]
  },
  {
   "cell_type": "code",
   "execution_count": 2,
   "id": "aef6c8bb-f3e3-4409-b5d7-90de4956e884",
   "metadata": {},
   "outputs": [
    {
     "name": "stdout",
     "output_type": "stream",
     "text": [
      "Object `List` not found.\n",
      "1  is an ODD number\n",
      "2  is an EVEN number\n",
      "3  is an ODD number\n",
      "4  is an EVEN number\n",
      "5  is an ODD number\n",
      "6  is an EVEN number\n",
      "7  is an ODD number\n",
      "8  is an EVEN number\n",
      "9  is an ODD number\n",
      "10  is an EVEN number\n"
     ]
    }
   ],
   "source": [
    "#8. Write a Python program to print odd numbers in a List?\n",
    "A=[1,2,3,4,5,6,7,8,9,10]\n",
    "for x in A:\n",
    "    if x%2!=0:\n",
    "        print(x,\" is an ODD number\")\n",
    "    else:\n",
    "        print(x,\" is an EVEN number\")\n"
   ]
  },
  {
   "cell_type": "code",
   "execution_count": 5,
   "id": "7c29ee92-5d2d-46e0-a57d-0f810a1d8474",
   "metadata": {},
   "outputs": [
    {
     "name": "stdout",
     "output_type": "stream",
     "text": [
      "[1, 2, 3, 6.8, 'Vaibhav', [2, 4]]\n"
     ]
    }
   ],
   "source": [
    "#9. Write a Python program to Remove empty List from List?\n",
    "A=[1,2,3,6.8,[],\"Vaibhav\",[2,4]]\n",
    "for x in A:\n",
    "    if x==[]:\n",
    "        A.remove(x)\n",
    "print(A)\n"
   ]
  },
  {
   "cell_type": "code",
   "execution_count": 8,
   "id": "55cc367d-c0a1-4ef8-b4e1-d1c1c64d3f4f",
   "metadata": {},
   "outputs": [
    {
     "name": "stdout",
     "output_type": "stream",
     "text": [
      "[1, 2, 3, 6.8, [], 'Vaibhav', [2, 4]]\n"
     ]
    }
   ],
   "source": [
    "#10. Write a Python program to Cloning or Copying a list?\n",
    "A=[1,2,3,6.8,[],\"Vaibhav\",[2,4]]\n",
    "clone=[]\n",
    "for x in A:\n",
    "    clone.append(x)\n",
    "print(clone)"
   ]
  },
  {
   "cell_type": "code",
   "execution_count": 9,
   "id": "9a36de1e-c8de-4d3a-8a28-3105fa815f83",
   "metadata": {},
   "outputs": [
    {
     "name": "stdout",
     "output_type": "stream",
     "text": [
      "2 is present 3 times\n",
      "3 is present 3 times\n",
      "4 is present 1 times\n",
      "ABC is present 2 times\n",
      "2 is present 3 times\n",
      "(2+2j) is present 2 times\n",
      "3 is present 3 times\n",
      "(2+2j) is present 2 times\n",
      "ABC is present 2 times\n",
      "9 is present 1 times\n",
      "2 is present 3 times\n",
      "3 is present 3 times\n"
     ]
    }
   ],
   "source": [
    "#11. Write a Python program to Count occurrences of an element in a list?\n",
    "A=[2,3,4,\"ABC\",2,2+2j,3,2+2j,\"ABC\",9,2,3]\n",
    "B=0\n",
    "for x in A:\n",
    "    B=A.count(x)\n",
    "    print(f\"{x} is present {B} times\")"
   ]
  },
  {
   "cell_type": "code",
   "execution_count": null,
   "id": "44190fd5-1e93-4101-929f-460f7ea2a93d",
   "metadata": {},
   "outputs": [],
   "source": []
  }
 ],
 "metadata": {
  "kernelspec": {
   "display_name": "Python 3 (ipykernel)",
   "language": "python",
   "name": "python3"
  },
  "language_info": {
   "codemirror_mode": {
    "name": "ipython",
    "version": 3
   },
   "file_extension": ".py",
   "mimetype": "text/x-python",
   "name": "python",
   "nbconvert_exporter": "python",
   "pygments_lexer": "ipython3",
   "version": "3.10.6"
  }
 },
 "nbformat": 4,
 "nbformat_minor": 5
}
