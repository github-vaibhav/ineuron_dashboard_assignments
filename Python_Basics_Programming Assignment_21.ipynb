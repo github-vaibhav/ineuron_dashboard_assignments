{
 "cells": [
  {
   "cell_type": "code",
   "execution_count": 7,
   "id": "100135b7-fa50-4b62-9ef6-dfb5a56610d1",
   "metadata": {},
   "outputs": [],
   "source": [
    "# Question1\n",
    "# Write a function that takes a list and a number as arguments. Add the number to the end of\n",
    "# the list, then remove the first element of the list. The function should then return the updated\n",
    "# list.\n",
    "# Examples\n",
    "# next_in_line([5, 6, 7, 8, 9], 1) ➞ [6, 7, 8, 9, 1]\n",
    "# next_in_line([7, 6, 3, 23, 17], 10) ➞ [6, 3, 23, 17, 10]\n",
    "# next_in_line([1, 10, 20, 42 ], 6) ➞ [10, 20, 42, 6]\n",
    "# next_in_line([], 6) ➞ \"No list has been selected\"\n",
    "\n",
    "\n",
    "def next_in_line(lis,num):\n",
    "    lis.append(num)\n",
    "    lis.pop(0)\n",
    "    print(lis)\n",
    "\n"
   ]
  },
  {
   "cell_type": "code",
   "execution_count": 8,
   "id": "27e237ff-418b-41fc-9c37-4b758d791fc2",
   "metadata": {},
   "outputs": [
    {
     "name": "stdout",
     "output_type": "stream",
     "text": [
      "[3, 5, 'Vaibhav', 4.56, 9, '2+1k', 100, 9999]\n"
     ]
    }
   ],
   "source": [
    "next_in_line([22,3,5,\"Vaibhav\",4.56,9,\"2+1k\",100],9999)"
   ]
  },
  {
   "cell_type": "code",
   "execution_count": 28,
   "id": "e8402579-c9a9-4c3f-9ab5-d61f2a7068db",
   "metadata": {},
   "outputs": [],
   "source": [
    "# Question2\n",
    "# Create the function that takes a list of dictionaries and returns the sum of people&#39;s budgets.\n",
    "# Examples\n",
    "# get_budgets([\n",
    "# { \"name\":\"John\", \"age\":21,\"budget\":23000 },\n",
    "# { \"name\":\"Steve\",\"age\":32,\"budget\":40000 },\n",
    "# { \"name\":\"Martin\",\"age\": 16,\"budget\": 2700}\n",
    "# ]) ➞ 65700\n",
    "\n",
    "def get_budgets(lis):\n",
    "    bud=0\n",
    "    for x in range(0,len(lis)):\n",
    "        bud=bud+lis[x].get(\"budget\")\n",
    "    print(bud)\n",
    "\n"
   ]
  },
  {
   "cell_type": "code",
   "execution_count": 29,
   "id": "8924b261-c9a2-42ca-b51c-7173da6185c7",
   "metadata": {},
   "outputs": [
    {
     "name": "stdout",
     "output_type": "stream",
     "text": [
      "65700\n"
     ]
    }
   ],
   "source": [
    "get_budgets([{ \"name\":\"John\", \"age\":21,\"budget\":23000 },{ \"name\":\"Steve\",\"age\":32,\"budget\":40000 },\n",
    "{ \"name\":\"Martin\",\"age\": 16,\"budget\": 2700}])"
   ]
  },
  {
   "cell_type": "code",
   "execution_count": 41,
   "id": "b557af9f-e656-443f-b055-ed4f2d781957",
   "metadata": {},
   "outputs": [],
   "source": [
    "# Question3\n",
    "# Create a function that takes a string and returns a string with its letters in alphabetical order.\n",
    "# Examples\n",
    "# alphabet_soup(\"hello\") ➞ \"ehllo\"\n",
    "# alphabet_soup(\"edabit\") ➞ \"abdeit\"\n",
    "# alphabet_soup(\"geek\") ➞ \"eegk\"\n",
    "# alphabet_soup(\"javascript\") ➞ \"aacijprstv\"\n",
    "\n",
    "\n",
    "def alphabet_soup(a):\n",
    "    lis = []\n",
    "    word=\"\"\n",
    "    for x in a:\n",
    "        lis.append(x)\n",
    "    lis.sort()\n",
    "    for y in lis:\n",
    "        word = word+y\n",
    "    print(word)\n",
    "    \n"
   ]
  },
  {
   "cell_type": "code",
   "execution_count": 44,
   "id": "6b325e5d-1c82-4ecd-a4cd-8ce950418079",
   "metadata": {},
   "outputs": [
    {
     "name": "stdout",
     "output_type": "stream",
     "text": [
      "aacijprstv\n"
     ]
    }
   ],
   "source": [
    "alphabet_soup(\"javascript\")"
   ]
  },
  {
   "cell_type": "code",
   "execution_count": 51,
   "id": "549ef01c-fdef-43ea-a0bd-86a018b50da7",
   "metadata": {},
   "outputs": [],
   "source": [
    "# Question4\n",
    "# Suppose that you invest $10,000 for 10 years at an interest rate of 6% compounded monthly.\n",
    "# What will be the value of your investment at the end of the 10 year period?\n",
    "# Create a function that accepts the principal p, the term in years t, the interest rate r, and the\n",
    "# number of compounding periods per year n. The function returns the value at the end of term\n",
    "# rounded to the nearest cent.\n",
    "# For the example above:\n",
    "# compound_interest(10000, 10, 0.06, 12) ➞ 18193.97\n",
    "# Note that the interest rate is given as a decimal and n=12 because with monthly compounding\n",
    "# there are 12 periods per year. Compounding can also be done annually, quarterly, weekly, or\n",
    "# daily.\n",
    "# Examples\n",
    "# compound_interest(100, 1, 0.05, 1) ➞ 105.0\n",
    "# compound_interest(3500, 15, 0.1, 4) ➞ 15399.26\n",
    "# compound_interest(100000, 20, 0.15, 365) ➞ 2007316.26\n",
    "\n",
    "\n",
    "def compound_interest(p,r,t,n):\n",
    "    ci = p*(1+r/n)**(n*t)\n",
    "    print(\"Compound interest is \",ci)\n"
   ]
  },
  {
   "cell_type": "code",
   "execution_count": 52,
   "id": "b6d8da6f-f0b0-45e0-b630-45d7bd2b753c",
   "metadata": {},
   "outputs": [
    {
     "name": "stdout",
     "output_type": "stream",
     "text": [
      "Compound interest is  15399.264120852586\n"
     ]
    }
   ],
   "source": [
    "compound_interest(3500,0.1,15,4)"
   ]
  },
  {
   "cell_type": "code",
   "execution_count": 54,
   "id": "a8afef8b-9bd5-4977-ae02-cfe0de5e86f2",
   "metadata": {},
   "outputs": [],
   "source": [
    "# Question5\n",
    "# Write a function that takes a list of elements and returns only the integers.\n",
    "# Examples\n",
    "# return_only_integer([9, 2, \"space\", \"car\", \"lion\", 16]) ➞ [9, 2, 16]\n",
    "# return_only_integer([hello, 81, \"basketball\", 123, \"fox\"]) ➞ [81, 123]\n",
    "# return_only_integer([10, \"121\", 56, 20, \"car\", 3, \"lion\"]) ➞ [10, 56, 20,\n",
    "# 3]\n",
    "# return_only_integer([\"String\", True, 3.3, 1]) ➞ [1]\n",
    "\n",
    "\n",
    "def return_only_integer(lis):\n",
    "    new_lis=[]\n",
    "    for x in lis:\n",
    "        if type(x)==int:\n",
    "            new_lis.append(x)\n",
    "    print(new_lis)\n",
    "        "
   ]
  },
  {
   "cell_type": "code",
   "execution_count": 56,
   "id": "37c13504-9bd9-4d11-a78e-209680bf5893",
   "metadata": {},
   "outputs": [
    {
     "name": "stdout",
     "output_type": "stream",
     "text": [
      "[9, 2, 16]\n"
     ]
    }
   ],
   "source": [
    "return_only_integer([9, 2, \"space\", \"car\", \"lion\", 16, 3.3, True,\"121\"])"
   ]
  },
  {
   "cell_type": "code",
   "execution_count": null,
   "id": "50dfe1ed-bcee-4f67-a54a-cbc2e866a679",
   "metadata": {},
   "outputs": [],
   "source": []
  }
 ],
 "metadata": {
  "kernelspec": {
   "display_name": "Python 3 (ipykernel)",
   "language": "python",
   "name": "python3"
  },
  "language_info": {
   "codemirror_mode": {
    "name": "ipython",
    "version": 3
   },
   "file_extension": ".py",
   "mimetype": "text/x-python",
   "name": "python",
   "nbconvert_exporter": "python",
   "pygments_lexer": "ipython3",
   "version": "3.10.6"
  }
 },
 "nbformat": 4,
 "nbformat_minor": 5
}
