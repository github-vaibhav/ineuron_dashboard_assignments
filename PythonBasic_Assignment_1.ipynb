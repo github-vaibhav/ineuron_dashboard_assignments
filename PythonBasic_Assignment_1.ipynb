{
  "nbformat": 4,
  "nbformat_minor": 0,
  "metadata": {
    "colab": {
      "provenance": [],
      "collapsed_sections": []
    },
    "kernelspec": {
      "name": "python3",
      "display_name": "Python 3"
    },
    "language_info": {
      "name": "python"
    }
  },
  "cells": [
    {
      "cell_type": "markdown",
      "source": [
        "1. In the below elements which of them are values or an expression? eg:- values can be integer or string and expressions will be mathematical operators. *   ----> ***expression***, 'hello' ----> **value**, -87.8 ----> **value**, -   ------> **expression**, /  -----> **expression**, +  ------> **expression**,6  ------> **values**\n",
        "\n",
        "\n",
        "\n"
      ],
      "metadata": {
        "id": "Mb3bGpH8y24t"
      }
    },
    {
      "cell_type": "markdown",
      "source": [
        "### 2. What is the difference between string and variable?\n",
        "A string is a combination of multiple letters or words which together make a string.\n",
        "\n",
        "A variable is generally a letter or a word that has been assigned a particular value.\n",
        "\n",
        "\n"
      ],
      "metadata": {
        "id": "MpKbcVCk0Bw4"
      }
    },
    {
      "cell_type": "markdown",
      "source": [
        "### 3. Describe three different data types.\n",
        "\n",
        "\n",
        "1.   int()\n",
        "2.   float()\n",
        "3.   str()\n",
        "\n"
      ],
      "metadata": {
        "id": "rJjRcr1T2ztQ"
      }
    },
    {
      "cell_type": "markdown",
      "source": [
        "### 4. What is an expression made up of? What do all expressions do?\n",
        "An expression is made up of operators and operands which together produce a value. For example: i = i+1"
      ],
      "metadata": {
        "id": "bkatdiYl2-pX"
      }
    },
    {
      "cell_type": "markdown",
      "source": [
        "### 5. This assignment statements, like spam = 10. What is the difference between an expression and a statement?\n",
        "\n",
        "An expression is made up of operators and operands which together produce a value. For example: i = i+1\n",
        "\n",
        "spam =10 is an assignment statement which tells the program or interpreter to assign spam variable a value of 10. Similary we have other statements in python like if statement, for statement etc."
      ],
      "metadata": {
        "id": "KitpT0zI4F5E"
      }
    },
    {
      "cell_type": "markdown",
      "source": [
        "### 6. After running the following code, what does the variable bacon contain?\n",
        "'bacon +  1' is an expression where we are using + operator to add 1 to 'bacon' to it's originally assigned value of 22 hence it becomes 22+1 = 23\n"
      ],
      "metadata": {
        "id": "7hPYPbNOJktX"
      }
    },
    {
      "cell_type": "code",
      "source": [
        "# 6. After running the following code, what does the variable bacon contain?\n",
        "bacon = 22\n",
        "bacon + 1"
      ],
      "metadata": {
        "colab": {
          "base_uri": "https://localhost:8080/"
        },
        "id": "bruPQjPy5Efq",
        "outputId": "5f42f6a2-cbbd-424c-a151-0f8233b4f735"
      },
      "execution_count": 1,
      "outputs": [
        {
          "output_type": "execute_result",
          "data": {
            "text/plain": [
              "23"
            ]
          },
          "metadata": {},
          "execution_count": 1
        }
      ]
    },
    {
      "cell_type": "code",
      "source": [
        "# 7. What should the values of the following two terms be?\n",
        "print('spam'+'spamspam') # here we are concatinating spam with 'spamspam'\n",
        "print('spam'*3)  # here we are printing spam 3 times"
      ],
      "metadata": {
        "colab": {
          "base_uri": "https://localhost:8080/"
        },
        "id": "WpiOMfIX-9bS",
        "outputId": "387da747-97db-4ce2-8da8-8d632f5a911c"
      },
      "execution_count": 5,
      "outputs": [
        {
          "output_type": "stream",
          "name": "stdout",
          "text": [
            "spamspamspam\n",
            "spamspamspam\n"
          ]
        }
      ]
    },
    {
      "cell_type": "markdown",
      "source": [
        "#### 8. Why is eggs a valid variable name while 100 is invalid?\n",
        "\n",
        "eggs is valid variable as it can store a value \n",
        "but 100 cannot be a variable as it is an integer value and integers are always a value but they cannot be a variable.\n",
        "\n"
      ],
      "metadata": {
        "id": "LgVOycZe_yG3"
      }
    },
    {
      "cell_type": "markdown",
      "source": [
        "#### 9. What three functions can be used to get the integer, floating-point number, or string version of a value?\n",
        "\n",
        "If x is variable that stores any value then we can use\n",
        "- int(x) to get it's integer value\n",
        "- float(x) to gets it's decimal value\n",
        "- str(x) to get it's string value"
      ],
      "metadata": {
        "id": "Kd2ewoh9BaBH"
      }
    },
    {
      "cell_type": "markdown",
      "source": [
        "#### 10. Why does this expression cause an error? How can you fix it?\n",
        "'I have eaten'+ 99 + 'burritos.'\n",
        "\n",
        "Answer- It throws error because we are trying to concatenate string with integer.\n",
        "Concatenation only works for string type hence to concatenate I have to enclose 99 in quotes"
      ],
      "metadata": {
        "id": "4T4jFUIpDnxK"
      }
    },
    {
      "cell_type": "code",
      "source": [
        "'I have eaten '+ '99' + ' burritos.'"
      ],
      "metadata": {
        "colab": {
          "base_uri": "https://localhost:8080/",
          "height": 35
        },
        "id": "sk4yCs4HD5Xz",
        "outputId": "3bdd52b3-677d-4f4a-a3b1-cdca567769ca"
      },
      "execution_count": 11,
      "outputs": [
        {
          "output_type": "execute_result",
          "data": {
            "text/plain": [
              "'I have eaten 99 burritos.'"
            ],
            "application/vnd.google.colaboratory.intrinsic+json": {
              "type": "string"
            }
          },
          "metadata": {},
          "execution_count": 11
        }
      ]
    }
  ]
}