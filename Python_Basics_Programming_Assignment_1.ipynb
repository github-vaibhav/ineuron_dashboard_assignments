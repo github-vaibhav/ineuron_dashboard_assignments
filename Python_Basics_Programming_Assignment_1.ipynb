{
  "nbformat": 4,
  "nbformat_minor": 0,
  "metadata": {
    "colab": {
      "provenance": [],
      "collapsed_sections": []
    },
    "kernelspec": {
      "name": "python3",
      "display_name": "Python 3"
    },
    "language_info": {
      "name": "python"
    }
  },
  "cells": [
    {
      "cell_type": "markdown",
      "source": [
        "#### 1. Write a Python program to print \"Hello Python\"?"
      ],
      "metadata": {
        "id": "qc6MwjsG7kBc"
      }
    },
    {
      "cell_type": "code",
      "execution_count": 1,
      "metadata": {
        "colab": {
          "base_uri": "https://localhost:8080/"
        },
        "id": "AcrqXZKN7KMq",
        "outputId": "e7e653fc-3fb4-4f3a-f97d-1e5213808eed"
      },
      "outputs": [
        {
          "output_type": "stream",
          "name": "stdout",
          "text": [
            "Hello Python\n"
          ]
        }
      ],
      "source": [
        "print(\"Hello Python\")"
      ]
    },
    {
      "cell_type": "markdown",
      "source": [
        "2. Write a Python program to do arithmetical operations addition and division.?"
      ],
      "metadata": {
        "id": "QMeGyDKE70Dv"
      }
    },
    {
      "cell_type": "code",
      "source": [
        "a=10\n",
        "b=20\n",
        "print(f\"Addition is: {a+b}\")\n",
        "print(f\"Division is: {b/a}\")"
      ],
      "metadata": {
        "colab": {
          "base_uri": "https://localhost:8080/"
        },
        "id": "NsbEAbUv72mP",
        "outputId": "cddf3185-307f-440d-8eb2-ad3d24d277a7"
      },
      "execution_count": 4,
      "outputs": [
        {
          "output_type": "stream",
          "name": "stdout",
          "text": [
            "Addition is: 30\n",
            "Division is: 2.0\n"
          ]
        }
      ]
    },
    {
      "cell_type": "markdown",
      "source": [
        "3. Write a Python program to find the area of a triangle?"
      ],
      "metadata": {
        "id": "eH79OMhi8Lqt"
      }
    },
    {
      "cell_type": "code",
      "source": [
        "Base = int(input(\"Enter base of triangle: \"))\n",
        "Height = int(input(\"Enter height of triangle: \"))\n",
        "Area = (Base*Height)/2\n",
        "print(f\"Area of traingle is: {Area}\")"
      ],
      "metadata": {
        "colab": {
          "base_uri": "https://localhost:8080/"
        },
        "id": "TuGIpBkT8OYy",
        "outputId": "e0cfe737-5979-4f79-9a09-972f45cdc218"
      },
      "execution_count": 7,
      "outputs": [
        {
          "output_type": "stream",
          "name": "stdout",
          "text": [
            "Enter base of triangle: 8\n",
            "Enter height of triangle: 4\n",
            "Area of traingle is: 16.0\n"
          ]
        }
      ]
    },
    {
      "cell_type": "markdown",
      "source": [
        "4. Write a Python program to swap two variables?"
      ],
      "metadata": {
        "id": "gGJcnaTf89LK"
      }
    },
    {
      "cell_type": "code",
      "source": [
        "x=2\n",
        "y=4\n",
        "z=x\n",
        "x=y\n",
        "y=z\n",
        "print(x,y)"
      ],
      "metadata": {
        "colab": {
          "base_uri": "https://localhost:8080/"
        },
        "id": "iERG2Xzh9A9d",
        "outputId": "8312ff36-4174-43d8-bcc5-e1ea5f5b2c4f"
      },
      "execution_count": 8,
      "outputs": [
        {
          "output_type": "stream",
          "name": "stdout",
          "text": [
            "4 2\n"
          ]
        }
      ]
    },
    {
      "cell_type": "markdown",
      "source": [
        "5. Write a Python program to generate a random number?"
      ],
      "metadata": {
        "id": "9yq095KH9f70"
      }
    },
    {
      "cell_type": "code",
      "source": [
        "import random\n",
        "n = random.randint(1,100)\n",
        "print(n)"
      ],
      "metadata": {
        "colab": {
          "base_uri": "https://localhost:8080/"
        },
        "id": "PxxghIwM9iWc",
        "outputId": "08ebfe1c-054c-4893-b9f5-5236b551140f"
      },
      "execution_count": 11,
      "outputs": [
        {
          "output_type": "stream",
          "name": "stdout",
          "text": [
            "3\n"
          ]
        }
      ]
    }
  ]
}