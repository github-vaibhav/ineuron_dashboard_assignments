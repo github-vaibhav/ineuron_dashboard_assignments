{
  "nbformat": 4,
  "nbformat_minor": 0,
  "metadata": {
    "colab": {
      "provenance": []
    },
    "kernelspec": {
      "name": "python3",
      "display_name": "Python 3"
    },
    "language_info": {
      "name": "python"
    }
  },
  "cells": [
    {
      "cell_type": "markdown",
      "source": [
        "1. What are escape characters, and how do you use them?\n",
        "\n",
        "Ans: With the help of escape characters we can insert or print characters like \"\\ etc. in a string which will fail if we add them directly to a string without using an escape character.\n",
        "It is generally written like \\\" which means adding double quotes to a string.\n",
        "\n",
        "2. What do the escape characters n and t stand for?\n",
        "\n",
        "Ans: \\n means new line and \\t means tab space. Example shown in code below"
      ],
      "metadata": {
        "id": "HxkFHsj1D5EN"
      }
    },
    {
      "cell_type": "code",
      "source": [
        "print(\"Hello \\nHow are you\")\n",
        "print(\"I am \\tfine, thank you!\")"
      ],
      "metadata": {
        "colab": {
          "base_uri": "https://localhost:8080/"
        },
        "id": "igomZ9tyFKMR",
        "outputId": "7c17ae46-8bc0-42ff-81cd-f19de710a128"
      },
      "execution_count": 7,
      "outputs": [
        {
          "output_type": "stream",
          "name": "stdout",
          "text": [
            "Hello \n",
            "How are you\n",
            "I am \tfine, thank you!\n"
          ]
        }
      ]
    },
    {
      "cell_type": "markdown",
      "source": [
        "3. What is the way to include backslash characters in a string?"
      ],
      "metadata": {
        "id": "aLtSGEW-GSDC"
      }
    },
    {
      "cell_type": "code",
      "source": [
        "A = \"He\\\\She can sit in the class\"\n",
        "print(A)"
      ],
      "metadata": {
        "colab": {
          "base_uri": "https://localhost:8080/"
        },
        "id": "AvB6bZ4CGTQZ",
        "outputId": "92042462-f3c5-4a7a-e64c-c2b81b5599a5"
      },
      "execution_count": 10,
      "outputs": [
        {
          "output_type": "stream",
          "name": "stdout",
          "text": [
            "He\\She can sit in the class\n"
          ]
        }
      ]
    },
    {
      "cell_type": "markdown",
      "source": [
        "4. The string \"Howl's Moving Castle\" is a correct value. Why isn&#39;t the single quote character in the\n",
        "word Howl&#39;s not escaped a problem?\n",
        "\n",
        "Ans: Because the string is within double quotes"
      ],
      "metadata": {
        "id": "ItvbsUtzGpV2"
      }
    },
    {
      "cell_type": "markdown",
      "source": [
        "5. How do you write a string of newlines if you don&#39;t want to use the n character?\n",
        "\n",
        "Ans: By using double quotes 3 times in starting and ending of the string. example is shown below "
      ],
      "metadata": {
        "id": "y_Ein6OCHqYq"
      }
    },
    {
      "cell_type": "code",
      "source": [
        "print(\"\"\"Hey\n",
        "My name is\n",
        "Vaibhav\"\"\")\n"
      ],
      "metadata": {
        "colab": {
          "base_uri": "https://localhost:8080/"
        },
        "id": "TxdvJNjCGyYI",
        "outputId": "20c5eccd-6c46-4a18-84fb-39f084bb74c7"
      },
      "execution_count": 19,
      "outputs": [
        {
          "output_type": "stream",
          "name": "stdout",
          "text": [
            "Hey\n",
            "My name is\n",
            "Vaibhav\n"
          ]
        }
      ]
    },
    {
      "cell_type": "markdown",
      "source": [
        "6. What are the values of the given expressions?\n",
        "&#39;Hello, world!&#39;[1]\n",
        "&#39;Hello, world!&#39;[0:5]\n",
        "&#39;Hello, world!&#39;[:5]\n",
        "&#39;Hello, world!&#39;[3:]"
      ],
      "metadata": {
        "id": "oJyXPBWTIMvw"
      }
    },
    {
      "cell_type": "code",
      "source": [
        "'Hello, world!'[1]  # will print value at index 1 of the string"
      ],
      "metadata": {
        "colab": {
          "base_uri": "https://localhost:8080/",
          "height": 35
        },
        "id": "Ng3bzucwILdY",
        "outputId": "680bbffd-0af0-46e6-9f52-d9b1d6371ba5"
      },
      "execution_count": 20,
      "outputs": [
        {
          "output_type": "execute_result",
          "data": {
            "text/plain": [
              "'e'"
            ],
            "application/vnd.google.colaboratory.intrinsic+json": {
              "type": "string"
            }
          },
          "metadata": {},
          "execution_count": 20
        }
      ]
    },
    {
      "cell_type": "code",
      "source": [
        "'Hello, world!'[0:5] # starting index is 0 and ending index is 5 but for ending index it prints till one position less hence Hello is printed"
      ],
      "metadata": {
        "colab": {
          "base_uri": "https://localhost:8080/",
          "height": 35
        },
        "id": "tHc5mGc1IZDU",
        "outputId": "294d22b3-ba68-4547-9586-b3c1c6d4a53a"
      },
      "execution_count": 21,
      "outputs": [
        {
          "output_type": "execute_result",
          "data": {
            "text/plain": [
              "'Hello'"
            ],
            "application/vnd.google.colaboratory.intrinsic+json": {
              "type": "string"
            }
          },
          "metadata": {},
          "execution_count": 21
        }
      ]
    },
    {
      "cell_type": "code",
      "source": [
        "'Hello, world!'[:5] # Same as above. if starting index is not given it will start from index 0 and ending index is 5 but for ending index it prints till one position less hence Hello is printed"
      ],
      "metadata": {
        "colab": {
          "base_uri": "https://localhost:8080/",
          "height": 35
        },
        "id": "PXdM1hnrIc-Y",
        "outputId": "463f073f-aaa7-4471-a9d5-641b1cb1c528"
      },
      "execution_count": 22,
      "outputs": [
        {
          "output_type": "execute_result",
          "data": {
            "text/plain": [
              "'Hello'"
            ],
            "application/vnd.google.colaboratory.intrinsic+json": {
              "type": "string"
            }
          },
          "metadata": {},
          "execution_count": 22
        }
      ]
    },
    {
      "cell_type": "code",
      "source": [
        "'Hello, world!'[3:] # starting index is 3 so it starts from 'l' and ending index is not given so it prints till end of the string."
      ],
      "metadata": {
        "colab": {
          "base_uri": "https://localhost:8080/",
          "height": 35
        },
        "id": "Qb53A74PIg3A",
        "outputId": "6a5dee86-2b5a-4085-9f90-6b8baf0f1807"
      },
      "execution_count": 23,
      "outputs": [
        {
          "output_type": "execute_result",
          "data": {
            "text/plain": [
              "'lo, world!'"
            ],
            "application/vnd.google.colaboratory.intrinsic+json": {
              "type": "string"
            }
          },
          "metadata": {},
          "execution_count": 23
        }
      ]
    },
    {
      "cell_type": "markdown",
      "source": [
        "7. What are the values of the following expressions?\n",
        "&#39;Hello&#39;.upper()\n",
        "&#39;Hello&#39;.upper().isupper()\n",
        "&#39;Hello&#39;.upper().lower()"
      ],
      "metadata": {
        "id": "ZTV8dJVUJeWS"
      }
    },
    {
      "cell_type": "code",
      "source": [
        "'Hello'.upper() # converts everything into upper case"
      ],
      "metadata": {
        "colab": {
          "base_uri": "https://localhost:8080/",
          "height": 35
        },
        "id": "7r4RNt03Jfu4",
        "outputId": "03e4d890-7187-488b-b4db-55b73f82cb76"
      },
      "execution_count": 25,
      "outputs": [
        {
          "output_type": "execute_result",
          "data": {
            "text/plain": [
              "'HELLO'"
            ],
            "application/vnd.google.colaboratory.intrinsic+json": {
              "type": "string"
            }
          },
          "metadata": {},
          "execution_count": 25
        }
      ]
    },
    {
      "cell_type": "code",
      "source": [
        "'Hello'.upper().isupper() # isupper() checks returns a boolena value True since string was convereted into upper case first"
      ],
      "metadata": {
        "colab": {
          "base_uri": "https://localhost:8080/"
        },
        "id": "gSqgQWVUJt0D",
        "outputId": "f5cfa2bb-8f44-4e62-d309-5abeef109b9b"
      },
      "execution_count": 26,
      "outputs": [
        {
          "output_type": "execute_result",
          "data": {
            "text/plain": [
              "True"
            ]
          },
          "metadata": {},
          "execution_count": 26
        }
      ]
    },
    {
      "cell_type": "code",
      "source": [
        "'Hello'.upper().lower() # string first gets convereted into upper case but in the end it gets convereted into lower case"
      ],
      "metadata": {
        "colab": {
          "base_uri": "https://localhost:8080/",
          "height": 35
        },
        "id": "2OdjozsDKGhC",
        "outputId": "bee337a3-9207-4f48-b0c5-7c5ff4454435"
      },
      "execution_count": 27,
      "outputs": [
        {
          "output_type": "execute_result",
          "data": {
            "text/plain": [
              "'hello'"
            ],
            "application/vnd.google.colaboratory.intrinsic+json": {
              "type": "string"
            }
          },
          "metadata": {},
          "execution_count": 27
        }
      ]
    },
    {
      "cell_type": "markdown",
      "source": [
        "8. What are the values of the following expressions?\n",
        "\n",
        "&#39;Remember, remember, the fifth of July.&#39;.split()\n",
        "\n",
        "&#39;-&#39;.join(&#39;There can only one.&#39;.split())"
      ],
      "metadata": {
        "id": "RI5JjkqJKa1S"
      }
    },
    {
      "cell_type": "code",
      "source": [
        "print('Remember, remember, the fifth of July.'.split()) #if no criteria is specified in split method then by default it will split based upon spaces\n",
        "print('-'.join('There can only one.'.split())) # first split method spearates the string by blank spaces which becomes individual words and then they are joined by -"
      ],
      "metadata": {
        "colab": {
          "base_uri": "https://localhost:8080/"
        },
        "id": "w8uKkYzWKdJG",
        "outputId": "b51e2994-3b0e-48f2-a32a-5c3dcba984f5"
      },
      "execution_count": 32,
      "outputs": [
        {
          "output_type": "stream",
          "name": "stdout",
          "text": [
            "['Remember,', 'remember,', 'the', 'fifth', 'of', 'July.']\n",
            "There-can-only-one.\n"
          ]
        }
      ]
    },
    {
      "cell_type": "markdown",
      "source": [
        "9. What are the methods for right-justifying, left-justifying, and centering a string?\n"
      ],
      "metadata": {
        "id": "J2dKcFSAM42T"
      }
    },
    {
      "cell_type": "code",
      "source": [
        "#left justifying\n",
        "A = \"iNeuron\"\n",
        "print(f\"BEFORE left justifying length is: {len(A)}\")\n",
        "left_allign = A.ljust(10,\"*\")\n",
        "print(left_allign) # length of iNeuron is 7 but after left justifying for 10 spaces, three * mark gets added to right side of the word to make length as 10\n",
        "print(f\"After left justifying new length is: {len(left_allign)}\")"
      ],
      "metadata": {
        "colab": {
          "base_uri": "https://localhost:8080/"
        },
        "id": "5AYl5IBgM6tc",
        "outputId": "4ad91757-ed36-4c25-c312-4ea3b3b48e98"
      },
      "execution_count": 44,
      "outputs": [
        {
          "output_type": "stream",
          "name": "stdout",
          "text": [
            "BEFORE left justifying length is: 7\n",
            "iNeuron***\n",
            "After left justifying new length is: 10\n"
          ]
        }
      ]
    },
    {
      "cell_type": "code",
      "source": [
        "#Right justifying\n",
        "A = \"Pune\"\n",
        "print(f\"BEFORE right justifying length is: {len(A)}\")\n",
        "right_allign = A.rjust(10,\"*\")\n",
        "print(right_allign) # length of Pune is 4 but after right justifying for 10 spaces, Six * mark gets added to left side of the word to make length as 10\n",
        "print(f\"After right justifying new length is: {len(right_allign)}\")"
      ],
      "metadata": {
        "colab": {
          "base_uri": "https://localhost:8080/"
        },
        "id": "4jAAEyrDQ4ww",
        "outputId": "ae536cf1-5c1f-4403-a1a8-455c947dd383"
      },
      "execution_count": 45,
      "outputs": [
        {
          "output_type": "stream",
          "name": "stdout",
          "text": [
            "BEFORE right justifying length is: 4\n",
            "******Pune\n",
            "After right justifying new length is: 10\n"
          ]
        }
      ]
    },
    {
      "cell_type": "code",
      "source": [
        "#centering\n",
        "A = \"Mumbai\"\n",
        "print(f\"BEFORE centering length is: {len(A)}\")\n",
        "center_allign = A.center(10,\"*\")\n",
        "print(center_allign) # length of Mumbai is 6 but after centering for 10 spaces, two * mark gets added to both sides of the word to make length as 10\n",
        "print(f\"After centering new length is: {len(right_allign)}\")"
      ],
      "metadata": {
        "colab": {
          "base_uri": "https://localhost:8080/"
        },
        "id": "VMhhoA9KRZsG",
        "outputId": "f127c3c3-a199-448c-d693-d36a806ee812"
      },
      "execution_count": 46,
      "outputs": [
        {
          "output_type": "stream",
          "name": "stdout",
          "text": [
            "BEFORE centering length is: 6\n",
            "**Mumbai**\n",
            "After centering new length is: 10\n"
          ]
        }
      ]
    },
    {
      "cell_type": "markdown",
      "source": [
        "10. What is the best way to remove whitespace characters from the start or end?\n",
        "\n",
        "Ans: By using strip() menthod to remove spaces from both sides. lstrip()\n",
        "to remove spaces from left side and rstrip() from right side."
      ],
      "metadata": {
        "id": "Cp9dploXR3eB"
      }
    },
    {
      "cell_type": "code",
      "source": [
        "A=\"      Tom    \"\n",
        "B=\"    Jerry   \"\n",
        "C=\"     Cat     \"\n",
        "print(f\"Removing spcaces from start and end of a string:\\'{A.strip()}\\'\")\n",
        "print(f\"Removing spcaces from left side of a string:\\'{B.lstrip()}\\'\")\n",
        "print(f\"Removing spcaces from right side of a string:\\'{C.rstrip()}\\'\")"
      ],
      "metadata": {
        "colab": {
          "base_uri": "https://localhost:8080/"
        },
        "id": "XGDp9U4mSZyc",
        "outputId": "e2db1e3c-dc19-4baa-e509-a0ce35a4ed3d"
      },
      "execution_count": 49,
      "outputs": [
        {
          "output_type": "stream",
          "name": "stdout",
          "text": [
            "Removing spcaces from start and end of a string:'Tom'\n",
            "Removing spcaces from left side of a string:'Jerry   '\n",
            "Removing spcaces from right side of a string:'     Cat'\n"
          ]
        }
      ]
    }
  ]
}