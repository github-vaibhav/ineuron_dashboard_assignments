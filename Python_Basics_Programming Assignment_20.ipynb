{
 "cells": [
  {
   "cell_type": "code",
   "execution_count": 5,
   "id": "416d94c0-3f7c-461e-9576-729e62eef113",
   "metadata": {},
   "outputs": [],
   "source": [
    "# Question1\n",
    "# Create a function that takes a list of strings and integers, and filters out the list so that it\n",
    "# returns a list of integers only.\n",
    "# Examples\n",
    "# filter_list([1, 2, 3, \"a\", \"b\", 4]) ➞ [1, 2, 3, 4]\n",
    "# filter_list([\"A\", 0, \"Edabit\", 1729, \"Python\", \"1729\"]) ➞ [0, 1729]\n",
    "# filter_list([\"Nothing\", \"here\"]) ➞ []\n",
    "\n",
    "def filter_list(lst):\n",
    "    m=[]\n",
    "    for x in lst:\n",
    "        if type(x)==int:\n",
    "            m.append(x)\n",
    "    print(m)\n",
    "    "
   ]
  },
  {
   "cell_type": "code",
   "execution_count": 6,
   "id": "e3e5ee9a-4c6f-45e2-a50a-3345ad72b227",
   "metadata": {},
   "outputs": [
    {
     "name": "stdout",
     "output_type": "stream",
     "text": [
      "[1, 3, 8]\n"
     ]
    }
   ],
   "source": [
    "filter_list([1,\"A\",3,1.34,2+3j,8,\"STR\"])"
   ]
  },
  {
   "cell_type": "code",
   "execution_count": 11,
   "id": "517f1143-3161-40dc-a9ac-ad7e5094abf4",
   "metadata": {},
   "outputs": [],
   "source": [
    "# Question2\n",
    "# Given a list of numbers, create a function which returns the list but with each element&#39;s\n",
    "# index in the list added to itself. This means you add 0 to the number at index 0, add 1 to the\n",
    "# number at index 1, etc...\n",
    "# Examples\n",
    "# add_indexes([0, 0, 0, 0, 0]) ➞ [0, 1, 2, 3, 4]\n",
    "# add_indexes([1, 2, 3, 4, 5]) ➞ [1, 3, 5, 7, 9]\n",
    "# add_indexes([5, 4, 3, 2, 1]) ➞ [5, 5, 5, 5, 5]\n",
    "\n",
    "def add_indexes(a):\n",
    "    l=len(a)\n",
    "    b=[]\n",
    "    for x in range(0,l):\n",
    "        c=0\n",
    "        c=c+a[x]+x\n",
    "        b.append(c)\n",
    "    print(b)"
   ]
  },
  {
   "cell_type": "code",
   "execution_count": 15,
   "id": "8b4f2711-115f-4f4f-ab7d-149ca006131d",
   "metadata": {},
   "outputs": [
    {
     "name": "stdout",
     "output_type": "stream",
     "text": [
      "[5, 5, 5, 5, 5]\n"
     ]
    }
   ],
   "source": [
    "add_indexes([5,4,3,2,1])"
   ]
  },
  {
   "cell_type": "code",
   "execution_count": 32,
   "id": "cf318c65-5fc7-4538-a261-83f126be907d",
   "metadata": {},
   "outputs": [],
   "source": [
    "# Question3\n",
    "# Create a function that takes the height and radius of a cone as arguments and returns the\n",
    "# volume of the cone rounded to the nearest hundredth. See the resources tab for the formula.\n",
    "\n",
    "# Examples\n",
    "# cone_volume(3, 2) ➞ 12.57\n",
    "# cone_volume(15, 6) ➞ 565.49\n",
    "# cone_volume(18, 0) ➞ 0\n",
    "\n",
    "def cone_volume(h,r):\n",
    "    vol = (3.14*r**2*h)/3\n",
    "    print(vol)\n",
    "    print(round(vol,2))"
   ]
  },
  {
   "cell_type": "code",
   "execution_count": 33,
   "id": "cad3708d-811c-47f1-8016-39e3a78345f5",
   "metadata": {},
   "outputs": [
    {
     "name": "stdout",
     "output_type": "stream",
     "text": [
      "12.978666666666667\n",
      "12.98\n"
     ]
    }
   ],
   "source": [
    "cone_volume(3.1,2)"
   ]
  },
  {
   "cell_type": "code",
   "execution_count": 17,
   "id": "67f97085-4218-4b9f-aa31-ebbe8f2ba22e",
   "metadata": {},
   "outputs": [],
   "source": [
    "# Question4\n",
    "# This Triangular Number Sequence is generated from a pattern of dots that form a triangle.\n",
    "# The first 5 numbers of the sequence, or dots, are:\n",
    "# 1, 3, 6, 10, 15\n",
    "# This means that the first triangle has just one dot, the second one has three dots, the third one\n",
    "# has 6 dots and so on.\n",
    "# Write a function that gives the number of dots with its corresponding triangle number of the\n",
    "# sequence.\n",
    "# Examples\n",
    "# triangle(1) ➞ 1\n",
    "# triangle(6) ➞ 21\n",
    "# triangle(215) ➞ 23220\n",
    "\n",
    "\n",
    "def triangle(n):\n",
    "    b=0\n",
    "    d=0\n",
    "\n",
    "    for x in range(1,n+1):\n",
    "        d=d+b+x     \n",
    "        print(d)\n"
   ]
  },
  {
   "cell_type": "code",
   "execution_count": 18,
   "id": "48d14098-51d2-44bf-8a8c-7d917a699c66",
   "metadata": {},
   "outputs": [
    {
     "name": "stdout",
     "output_type": "stream",
     "text": [
      "1\n",
      "3\n",
      "6\n",
      "10\n",
      "15\n",
      "21\n"
     ]
    }
   ],
   "source": [
    "triangle(6)"
   ]
  },
  {
   "cell_type": "code",
   "execution_count": 24,
   "id": "4a2bac1b-eb10-4ec6-8616-9e18f646850a",
   "metadata": {},
   "outputs": [],
   "source": [
    "# Question5\n",
    "# Create a function that takes a list of numbers between 1 and 10 (excluding one number) and\n",
    "# returns the missing number.\n",
    "# Examples\n",
    "# missing_num([1, 2, 3, 4, 6, 7, 8, 9, 10]) ➞ 5\n",
    "# missing_num([7, 2, 3, 6, 5, 9, 1, 4, 8]) ➞ 10\n",
    "# missing_num([10, 5, 1, 2, 4, 6, 8, 3, 9]) ➞ 7\n",
    "\n",
    "def missing_num(lis):\n",
    "    for x in range (1,11):\n",
    "        if lis.count(x)==0:\n",
    "            print(x)\n",
    "\n",
    "    "
   ]
  },
  {
   "cell_type": "code",
   "execution_count": 26,
   "id": "e6fb2d04-fcd3-44ba-b259-036b63394158",
   "metadata": {},
   "outputs": [
    {
     "name": "stdout",
     "output_type": "stream",
     "text": [
      "5\n",
      "8\n",
      "10\n"
     ]
    }
   ],
   "source": [
    "missing_num([1,2,3,4,6,7,9])"
   ]
  },
  {
   "cell_type": "code",
   "execution_count": null,
   "id": "6e99fd2c-5593-4a31-abe7-ec551268c8ba",
   "metadata": {},
   "outputs": [],
   "source": []
  }
 ],
 "metadata": {
  "kernelspec": {
   "display_name": "Python 3 (ipykernel)",
   "language": "python",
   "name": "python3"
  },
  "language_info": {
   "codemirror_mode": {
    "name": "ipython",
    "version": 3
   },
   "file_extension": ".py",
   "mimetype": "text/x-python",
   "name": "python",
   "nbconvert_exporter": "python",
   "pygments_lexer": "ipython3",
   "version": "3.10.6"
  }
 },
 "nbformat": 4,
 "nbformat_minor": 5
}
