{
 "cells": [
  {
   "cell_type": "code",
   "execution_count": 32,
   "id": "188673d3-7aa6-4d7f-992a-622bf0b15b4d",
   "metadata": {},
   "outputs": [
    {
     "name": "stdin",
     "output_type": "stream",
     "text": [
      "Enter any number to check Disarium number:  135\n"
     ]
    },
    {
     "name": "stdout",
     "output_type": "stream",
     "text": [
      "135 is a Disarium number\n"
     ]
    }
   ],
   "source": [
    "#1. Write a Python program to check if the given number is a Disarium Number?\n",
    "A=input(\"Enter any number to check Disarium number: \")\n",
    "B=len(A)\n",
    "a=0\n",
    "for x in range(0,B):\n",
    "    a=a+int(A[x])**(x+1)\n",
    "if int(A)==a:\n",
    "    print(f\"{A} is a Disarium number\")\n",
    "else:\n",
    "    print(f\"{A} is NOT a Disarium number\")\n",
    "\n",
    "              "
   ]
  },
  {
   "cell_type": "code",
   "execution_count": 37,
   "id": "34ec5393-405c-469f-8268-af04764ae2a2",
   "metadata": {},
   "outputs": [
    {
     "name": "stdout",
     "output_type": "stream",
     "text": [
      "1 is a Disarium number\n",
      "2 is a Disarium number\n",
      "3 is a Disarium number\n",
      "4 is a Disarium number\n",
      "5 is a Disarium number\n",
      "6 is a Disarium number\n",
      "7 is a Disarium number\n",
      "8 is a Disarium number\n",
      "9 is a Disarium number\n",
      "10 is NOT a Disarium number\n",
      "11 is NOT a Disarium number\n",
      "12 is NOT a Disarium number\n",
      "13 is NOT a Disarium number\n",
      "14 is NOT a Disarium number\n",
      "15 is NOT a Disarium number\n",
      "16 is NOT a Disarium number\n",
      "17 is NOT a Disarium number\n",
      "18 is NOT a Disarium number\n",
      "19 is NOT a Disarium number\n",
      "20 is NOT a Disarium number\n",
      "21 is NOT a Disarium number\n",
      "22 is NOT a Disarium number\n",
      "23 is NOT a Disarium number\n",
      "24 is NOT a Disarium number\n",
      "25 is NOT a Disarium number\n",
      "26 is NOT a Disarium number\n",
      "27 is NOT a Disarium number\n",
      "28 is NOT a Disarium number\n",
      "29 is NOT a Disarium number\n",
      "30 is NOT a Disarium number\n",
      "31 is NOT a Disarium number\n",
      "32 is NOT a Disarium number\n",
      "33 is NOT a Disarium number\n",
      "34 is NOT a Disarium number\n",
      "35 is NOT a Disarium number\n",
      "36 is NOT a Disarium number\n",
      "37 is NOT a Disarium number\n",
      "38 is NOT a Disarium number\n",
      "39 is NOT a Disarium number\n",
      "40 is NOT a Disarium number\n",
      "41 is NOT a Disarium number\n",
      "42 is NOT a Disarium number\n",
      "43 is NOT a Disarium number\n",
      "44 is NOT a Disarium number\n",
      "45 is NOT a Disarium number\n",
      "46 is NOT a Disarium number\n",
      "47 is NOT a Disarium number\n",
      "48 is NOT a Disarium number\n",
      "49 is NOT a Disarium number\n",
      "50 is NOT a Disarium number\n",
      "51 is NOT a Disarium number\n",
      "52 is NOT a Disarium number\n",
      "53 is NOT a Disarium number\n",
      "54 is NOT a Disarium number\n",
      "55 is NOT a Disarium number\n",
      "56 is NOT a Disarium number\n",
      "57 is NOT a Disarium number\n",
      "58 is NOT a Disarium number\n",
      "59 is NOT a Disarium number\n",
      "60 is NOT a Disarium number\n",
      "61 is NOT a Disarium number\n",
      "62 is NOT a Disarium number\n",
      "63 is NOT a Disarium number\n",
      "64 is NOT a Disarium number\n",
      "65 is NOT a Disarium number\n",
      "66 is NOT a Disarium number\n",
      "67 is NOT a Disarium number\n",
      "68 is NOT a Disarium number\n",
      "69 is NOT a Disarium number\n",
      "70 is NOT a Disarium number\n",
      "71 is NOT a Disarium number\n",
      "72 is NOT a Disarium number\n",
      "73 is NOT a Disarium number\n",
      "74 is NOT a Disarium number\n",
      "75 is NOT a Disarium number\n",
      "76 is NOT a Disarium number\n",
      "77 is NOT a Disarium number\n",
      "78 is NOT a Disarium number\n",
      "79 is NOT a Disarium number\n",
      "80 is NOT a Disarium number\n",
      "81 is NOT a Disarium number\n",
      "82 is NOT a Disarium number\n",
      "83 is NOT a Disarium number\n",
      "84 is NOT a Disarium number\n",
      "85 is NOT a Disarium number\n",
      "86 is NOT a Disarium number\n",
      "87 is NOT a Disarium number\n",
      "88 is NOT a Disarium number\n",
      "89 is a Disarium number\n",
      "90 is NOT a Disarium number\n",
      "91 is NOT a Disarium number\n",
      "92 is NOT a Disarium number\n",
      "93 is NOT a Disarium number\n",
      "94 is NOT a Disarium number\n",
      "95 is NOT a Disarium number\n",
      "96 is NOT a Disarium number\n",
      "97 is NOT a Disarium number\n",
      "98 is NOT a Disarium number\n",
      "99 is NOT a Disarium number\n",
      "100 is NOT a Disarium number\n"
     ]
    }
   ],
   "source": [
    "#2. Write a Python program to print all disarium numbers between 1 to 100?\n",
    "for m in range(1,101):\n",
    " C=len(str(m))\n",
    " a=0\n",
    " D=str(m)\n",
    " for x in range(0,C):\n",
    "    a=a+int(D[x])**(x+1)\n",
    "    print\n",
    " if m==a:\n",
    "    print(f\"{m} is a Disarium number\")\n",
    " else:\n",
    "    print(f\"{m} is NOT a Disarium number\")"
   ]
  },
  {
   "cell_type": "code",
   "execution_count": 1,
   "id": "658c8d71-0c7b-4300-b13e-aa398b035da3",
   "metadata": {},
   "outputs": [
    {
     "name": "stdin",
     "output_type": "stream",
     "text": [
      "Enter any number to find if it's a Happy number:  10\n"
     ]
    },
    {
     "name": "stdout",
     "output_type": "stream",
     "text": [
      "10 is a HAPPY Number\n"
     ]
    }
   ],
   "source": [
    "#3. Write a Python program to check if the given number is Happy Number?\n",
    "p=int(input(\"Enter any number to find if it's a Happy number: \"))\n",
    "x=p\n",
    "while x>=10:\n",
    "    sum=0\n",
    "    while x>0:\n",
    "        rem = x%10\n",
    "        sum = sum+rem**2\n",
    "        x=x//10\n",
    "    x=sum\n",
    "if x==1:\n",
    "    print(f\"{p} is a HAPPY Number\")\n",
    "else:\n",
    "    print(f\"{p} is NOT a HAPPY Number\")\n",
    "    \n"
   ]
  },
  {
   "cell_type": "code",
   "execution_count": 2,
   "id": "8d70aac1-6ff8-40fe-af1f-8373e1a88fc8",
   "metadata": {},
   "outputs": [
    {
     "name": "stdout",
     "output_type": "stream",
     "text": [
      "100 is a HAPPY Number\n"
     ]
    }
   ],
   "source": [
    "#4. Write a Python program to print all happy numbers between 1 and 100?\n",
    "for p in range(1,101):\n",
    "    x=p\n",
    "    while x>=10:\n",
    "        sum=0\n",
    "        while x>0:\n",
    "            rem = x%10\n",
    "            sum = sum+rem**2\n",
    "            x=x//10\n",
    "    x=sum\n",
    "if x==1:\n",
    "    print(f\"{p} is a HAPPY Number\")\n",
    "else:\n",
    "    print(f\"{p} is NOT a HAPPY Number\")"
   ]
  },
  {
   "cell_type": "code",
   "execution_count": 15,
   "id": "ce941c42-74a3-42fc-868c-5d000a57a1c1",
   "metadata": {},
   "outputs": [
    {
     "name": "stdin",
     "output_type": "stream",
     "text": [
      "Enter any number to check Harsahd Number:  4\n"
     ]
    },
    {
     "name": "stdout",
     "output_type": "stream",
     "text": [
      "4 Number is Harshad number\n"
     ]
    }
   ],
   "source": [
    "#5. Write a Python program to determine whether the given number is a Harshad Number?\n",
    "\n",
    "std = input(\"Enter any number to check Harsahd Number: \")\n",
    "l=len(std)\n",
    "b=0\n",
    "for a in range(0,l):\n",
    "    b=b+int(std[a])\n",
    "\n",
    "num = int(std)%b\n",
    "if num==0:\n",
    "    print(std, \"Number is Harshad number\")\n",
    "else:\n",
    "    print(std, \"Number is NOT a Harshad number\")\n",
    "    \n"
   ]
  },
  {
   "cell_type": "code",
   "execution_count": 20,
   "id": "675e7f9a-1f92-4119-93fc-591eebe79a79",
   "metadata": {},
   "outputs": [
    {
     "name": "stdout",
     "output_type": "stream",
     "text": [
      "1 Number is Harshad number\n",
      "2 Number is Harshad number\n",
      "3 Number is Harshad number\n",
      "4 Number is Harshad number\n",
      "5 Number is Harshad number\n",
      "6 Number is Harshad number\n",
      "7 Number is Harshad number\n",
      "8 Number is Harshad number\n",
      "9 Number is Harshad number\n",
      "10 Number is Harshad number\n",
      "11 Number is NOT a Harshad number\n",
      "12 Number is Harshad number\n",
      "13 Number is NOT a Harshad number\n",
      "14 Number is NOT a Harshad number\n"
     ]
    }
   ],
   "source": [
    "#6. Write a Python program to print all pronic numbers between 1 and 100?\n",
    "\n",
    "for x in range(1,101):\n",
    "    l=len(str(x))\n",
    "    b=0\n",
    "    c=str(x)\n",
    "    for a in range(0,l):\n",
    "        b=b+int(c[a])\n",
    "\n",
    "    num = x%b\n",
    "    if num==0:\n",
    "        print(x, \"Number is Harshad number\")\n",
    "    else:\n",
    "        print(x, \"Number is NOT a Harshad number\")\n",
    "    \n"
   ]
  },
  {
   "cell_type": "code",
   "execution_count": null,
   "id": "937b00bb-3586-4cd4-86a4-d234187ac9df",
   "metadata": {},
   "outputs": [],
   "source": []
  }
 ],
 "metadata": {
  "kernelspec": {
   "display_name": "Python 3 (ipykernel)",
   "language": "python",
   "name": "python3"
  },
  "language_info": {
   "codemirror_mode": {
    "name": "ipython",
    "version": 3
   },
   "file_extension": ".py",
   "mimetype": "text/x-python",
   "name": "python",
   "nbconvert_exporter": "python",
   "pygments_lexer": "ipython3",
   "version": "3.10.6"
  }
 },
 "nbformat": 4,
 "nbformat_minor": 5
}
