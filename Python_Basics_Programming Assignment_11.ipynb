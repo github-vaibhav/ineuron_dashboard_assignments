{
 "cells": [
  {
   "cell_type": "code",
   "execution_count": 13,
   "id": "8532ab42-38c9-49ae-9b89-c1d77851756e",
   "metadata": {},
   "outputs": [
    {
     "name": "stdin",
     "output_type": "stream",
     "text": [
      "Enter length to find words:  7\n"
     ]
    },
    {
     "name": "stdout",
     "output_type": "stream",
     "text": [
      "Artificial\n",
      "intelligence\n",
      "computer\n"
     ]
    }
   ],
   "source": [
    "#1. Write a Python program to find words which are greater than given length k?\n",
    "A=\"Artificial intelligence is the ability of a computer program or a machine to think and learn\"\n",
    "B=A.split(\" \")\n",
    "k = int(input(\"Enter length to find words: \"))\n",
    "for x in B:\n",
    "    if len(x)>k:\n",
    "        print(x)\n",
    "    else:\n",
    "        continue\n",
    "\n"
   ]
  },
  {
   "cell_type": "code",
   "execution_count": 33,
   "id": "41f47de8-d9ca-4d1c-a5b9-6a576f0b4617",
   "metadata": {},
   "outputs": [
    {
     "name": "stdin",
     "output_type": "stream",
     "text": [
      "Which ith character you want to remove:  0\n"
     ]
    },
    {
     "name": "stdout",
     "output_type": "stream",
     "text": [
      "rtificial\n"
     ]
    }
   ],
   "source": [
    "# 2. Write a Python program for removing i-th character from a string?\n",
    "A=\"Artificial\"\n",
    "inp = int(input(\"Which ith character you want to remove: \"))\n",
    "l=len(A)\n",
    "B=\"\"\n",
    "for x in range(0,l):\n",
    "    if x!=inp:\n",
    "        B=B+A[x]\n",
    "    else:\n",
    "        continue\n",
    "print(B)   \n"
   ]
  },
  {
   "cell_type": "code",
   "execution_count": 38,
   "id": "1394d539-6b27-4a75-b31e-93cd83297e10",
   "metadata": {},
   "outputs": [
    {
     "name": "stdout",
     "output_type": "stream",
     "text": [
      "['Hello', 'I am Vaibhav', 'persuing Data Science Course']\n",
      "Hello, I am Vaibhav, persuing Data Science Course at iNeuron\n"
     ]
    }
   ],
   "source": [
    "#3. Write a Python program to split and join a string?\n",
    "A=\"Hello, I am Vaibhav, persuing Data Science Course\"\n",
    "B=\"at iNeuron\"\n",
    "C=A.split(\", \")\n",
    "print(C)\n",
    "print(A+\" \"+B)"
   ]
  },
  {
   "cell_type": "code",
   "execution_count": 30,
   "id": "ac283f01-6728-44fa-8ad4-b535c58e5abd",
   "metadata": {},
   "outputs": [
    {
     "name": "stdin",
     "output_type": "stream",
     "text": [
      "Enter any string to check Binary or not:  100011110010101\n"
     ]
    },
    {
     "name": "stdout",
     "output_type": "stream",
     "text": [
      "Binary\n"
     ]
    }
   ],
   "source": [
    "#4. Write a Python to check if a given string is binary string or not?\n",
    "A=input(\"Enter any string to check Binary or not: \")\n",
    "t=set(A)\n",
    "b=0\n",
    "for x in t:\n",
    "    if int(x)==1 or int(x)==0: \n",
    "        pass       \n",
    "    else:\n",
    "        b=b+1\n",
    "if b>=1:\n",
    "    print(\"Not Binary\")\n",
    "else:\n",
    "    print(\"Binary\")\n",
    "\n"
   ]
  },
  {
   "cell_type": "code",
   "execution_count": 79,
   "id": "cb2a468c-af4b-45d8-a9a3-bcdf2cb9e003",
   "metadata": {},
   "outputs": [
    {
     "name": "stdout",
     "output_type": "stream",
     "text": [
      "['Hi', 'My', 'name', 'is', 'Rohit'] ['Hi', 'My', 'name', 'is', 'Vaibhav']\n",
      "['Hi', 'My', 'name', 'is']\n",
      "['Rohit']\n",
      "['Vaibhav']\n"
     ]
    }
   ],
   "source": [
    "#5. Write a Python program to find uncommon words from two Strings?\n",
    "A=\"Hi My name is Rohit\"\n",
    "B=\"Hi My name is Vaibhav\"\n",
    "D=A.split(\" \")\n",
    "E=B.split(\" \")\n",
    "print(D,E)\n",
    "C=[]\n",
    "for x in D:\n",
    "    for y in E:\n",
    "        if x==y:\n",
    "            flag=\"True\"\n",
    "            C=C+[x]\n",
    "\n",
    "print(C)\n",
    "for z in C:\n",
    "    D.remove(z)\n",
    "    E.remove(z)\n",
    "print(D)\n",
    "print(E)\n",
    "    \n"
   ]
  },
  {
   "cell_type": "code",
   "execution_count": 82,
   "id": "2bc94a4f-78e1-45d6-ab19-ca40cafefec5",
   "metadata": {},
   "outputs": [
    {
     "name": "stdout",
     "output_type": "stream",
     "text": [
      "I is showing 2 times\n",
      "am is showing 2 times\n",
      "I is showing 2 times\n",
      "am is showing 2 times\n"
     ]
    }
   ],
   "source": [
    "#6. Write a Python to find all duplicate characters in string?\n",
    "A=\"I am studying at iNeuron where I am interested in Data Science\"\n",
    "B=A.split(\" \")\n",
    "c=0\n",
    "for x in B:\n",
    "    c=B.count(x)\n",
    "    if c>1:\n",
    "        print(f\"{x} is showing {c} times\")\n",
    "    else:\n",
    "        continue"
   ]
  },
  {
   "cell_type": "code",
   "execution_count": 93,
   "id": "ee82c3ee-bd89-4523-9854-d99b16e1f840",
   "metadata": {},
   "outputs": [
    {
     "name": "stdout",
     "output_type": "stream",
     "text": [
      "String contains special characters\n"
     ]
    }
   ],
   "source": [
    "#7. Write a Python Program to check if a string contains any special character?\n",
    "txt = \"12ABCDEF3432-\"\n",
    "x = txt.isalnum()\n",
    "if x==True:\n",
    "    print(\"String doesn't contain any special characters\")\n",
    "else:\n",
    "    print(\"String contains special characters\")"
   ]
  },
  {
   "cell_type": "code",
   "execution_count": null,
   "id": "a98b0dc9-f415-4a47-b4bc-c8ff0ca7190b",
   "metadata": {},
   "outputs": [],
   "source": []
  }
 ],
 "metadata": {
  "kernelspec": {
   "display_name": "Python 3 (ipykernel)",
   "language": "python",
   "name": "python3"
  },
  "language_info": {
   "codemirror_mode": {
    "name": "ipython",
    "version": 3
   },
   "file_extension": ".py",
   "mimetype": "text/x-python",
   "name": "python",
   "nbconvert_exporter": "python",
   "pygments_lexer": "ipython3",
   "version": "3.10.6"
  }
 },
 "nbformat": 4,
 "nbformat_minor": 5
}
