{
 "cells": [
  {
   "cell_type": "code",
   "execution_count": 2,
   "id": "de72e67b-4e9d-4f6c-8e9b-04641f9bf547",
   "metadata": {},
   "outputs": [],
   "source": [
    "# Question 1\n",
    "# Create a function that takes a list of non-negative integers and strings and return a new list\n",
    "# without the strings.\n",
    "# Examples\n",
    "# filter_list([1, 2, \"a\", \"b\"]) ➞ [1, 2]\n",
    "# filter_list([1, \"a\", \"b\", 0, 15]) ➞ [1, 0, 15]\n",
    "# filter_list([1, 2, \"aasf\", \"1\", \"123\", 123]) ➞ [1, 2, 123]\n",
    "\n",
    "def filter_list(a):\n",
    "    new=[]\n",
    "    for x in a:\n",
    "        if type(x)==int:\n",
    "            new.append(x)\n",
    "    print(new)\n",
    "    \n"
   ]
  },
  {
   "cell_type": "code",
   "execution_count": 4,
   "id": "5d0fad73-10d5-406a-99b9-e75c6a5fd1c6",
   "metadata": {},
   "outputs": [
    {
     "name": "stdout",
     "output_type": "stream",
     "text": [
      "[1, 23, 0]\n"
     ]
    }
   ],
   "source": [
    "filter_list([1,\"2\",\"abcd\",23,0])"
   ]
  },
  {
   "cell_type": "code",
   "execution_count": 30,
   "id": "8e0efaf9-d300-41cd-a64c-83a3c006d9b9",
   "metadata": {},
   "outputs": [],
   "source": [
    "# Question 2\n",
    "# The \"Reverser\" takes a string as input and returns that string in reverse order, with the\n",
    "# opposite case.\n",
    "# Examples\n",
    "# reverse(\"Hello World\") ➞ \"DLROw OLLEh\"\n",
    "# reverse(\"ReVeRsE\") ➞ \"eSrEvEr\"\n",
    "# reverse(\"Radar\") ➞ \"rADAR\"\n",
    "\n",
    "def Reverser(a):\n",
    "    m=a[::-1]\n",
    "    d=\"\"\n",
    "    for x in m:\n",
    "        if x.isupper():\n",
    "            b=x.lower()\n",
    "            d=d+b\n",
    "        else:\n",
    "            c=x.upper()\n",
    "            d=d+c\n",
    "    print(d)   \n"
   ]
  },
  {
   "cell_type": "code",
   "execution_count": 31,
   "id": "5770d4dd-73fb-4969-900d-a55fc7c6d012",
   "metadata": {},
   "outputs": [
    {
     "name": "stdout",
     "output_type": "stream",
     "text": [
      "ti EKAT\n"
     ]
    }
   ],
   "source": [
    "Reverser(\"take IT\")"
   ]
  },
  {
   "cell_type": "code",
   "execution_count": 38,
   "id": "d0e49580-b7f1-45f5-b2c7-dd06a9259dc5",
   "metadata": {},
   "outputs": [],
   "source": [
    "# Question 3\n",
    "# You can assign variables from lists like this:\n",
    "# lst = [1, 2, 3, 4, 5, 6]\n",
    "# first = lst[0]\n",
    "# middle = lst[1:-1]\n",
    "# last = lst[-1]\n",
    "# print(first) ➞ outputs 1\n",
    "# print(middle) ➞ outputs [2, 3, 4, 5]\n",
    "# print(last) ➞ outputs 6\n",
    "# With Python 3, you can assign variables from lists in a much more succinct way. Create\n",
    "# variables first, middle and last from the given list using destructuring assignment\n",
    "# (check the Resources tab for some examples), where:\n",
    "# first ➞ 1\n",
    "# middle ➞ [2, 3, 4, 5]\n",
    "# last ➞ 6\n",
    "\n",
    "# Your task is to unpack the list writeyourcodehere into three variables, being first,\n",
    "# middle, and last, with middle being everything in between the first and last element. Then\n",
    "# print all three variables.\n",
    "\n",
    "\n",
    "\n",
    "def destructure(lst):\n",
    "    first=lst[0]\n",
    "    middle=lst[1:-1]\n",
    "    last = lst[-1]\n",
    "    print(f\"First is {first}, Middle is {middle} and Last is {last}\")\n",
    "\n"
   ]
  },
  {
   "cell_type": "code",
   "execution_count": 42,
   "id": "6d218a38-44f3-4dea-9612-cf2a3d768468",
   "metadata": {},
   "outputs": [
    {
     "name": "stdout",
     "output_type": "stream",
     "text": [
      "First is 1, Middle is [2, 3, 'abc', 4] and Last is 5\n"
     ]
    }
   ],
   "source": [
    "destructure([1,2,3,\"abc\",4,5])"
   ]
  },
  {
   "cell_type": "code",
   "execution_count": 51,
   "id": "3ea00d82-9b1a-4e68-a1c3-7893f265bcf3",
   "metadata": {},
   "outputs": [],
   "source": [
    "# Question 4\n",
    "# Write a function that calculates the factorial of a number recursively.\n",
    "# Examples\n",
    "# factorial(5) ➞ 120\n",
    "# factorial(3) ➞ 6\n",
    "# factorial(1) ➞ 1\n",
    "# factorial(0) ➞ 1\n",
    "\n",
    "def factorial(a):\n",
    "    m=1\n",
    "    for x in range(1,a+1):\n",
    "        m=m*x\n",
    "    print(m)    \n"
   ]
  },
  {
   "cell_type": "code",
   "execution_count": 55,
   "id": "12a6100a-f3f6-4580-84a1-48d4dfccdd5d",
   "metadata": {},
   "outputs": [
    {
     "name": "stdout",
     "output_type": "stream",
     "text": [
      "720\n"
     ]
    }
   ],
   "source": [
    "factorial(6)"
   ]
  },
  {
   "cell_type": "code",
   "execution_count": 58,
   "id": "321cd786-bc34-49a0-8b14-daf09207197e",
   "metadata": {},
   "outputs": [
    {
     "name": "stdout",
     "output_type": "stream",
     "text": [
      "['b', 'a', 'a', 'a']\n"
     ]
    }
   ],
   "source": [
    "# Question 5\n",
    "# Write a function that moves all elements of one type to the end of the list.\n",
    "# Examples\n",
    "# move_to_end([1, 3, 2, 4, 4, 1], 1) ➞ [3, 2, 4, 4, 1, 1]\n",
    "# # Move all the 1s to the end of the array.\n",
    "# move_to_end([7, 8, 9, 1, 2, 3, 4], 9) ➞ [7, 8, 1, 2, 3, 4, 9]\n",
    "# move_to_end([\"a\", \"a\", \"a\", \"b\"], \"a\") ➞ [\"b\", \"a\", \"a\", \"a\"]\n",
    "\n",
    "def move_to_end(lst,a):\n",
    "for x in lst:\n",
    "    if x==a:\n",
    "        lst.remove(x)\n",
    "        lst.append(x)\n",
    "print(lst)"
   ]
  },
  {
   "cell_type": "code",
   "execution_count": null,
   "id": "40eaf702-d341-4848-85cf-f6adf22c7c35",
   "metadata": {},
   "outputs": [],
   "source": []
  }
 ],
 "metadata": {
  "kernelspec": {
   "display_name": "Python 3 (ipykernel)",
   "language": "python",
   "name": "python3"
  },
  "language_info": {
   "codemirror_mode": {
    "name": "ipython",
    "version": 3
   },
   "file_extension": ".py",
   "mimetype": "text/x-python",
   "name": "python",
   "nbconvert_exporter": "python",
   "pygments_lexer": "ipython3",
   "version": "3.10.6"
  }
 },
 "nbformat": 4,
 "nbformat_minor": 5
}
