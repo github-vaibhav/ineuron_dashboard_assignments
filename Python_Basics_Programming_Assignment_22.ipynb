{
 "cells": [
  {
   "cell_type": "code",
   "execution_count": null,
   "id": "20c253a3-ab85-4ca1-a819-42a7f8307373",
   "metadata": {},
   "outputs": [],
   "source": []
  },
  {
   "cell_type": "code",
   "execution_count": 5,
   "id": "dc2481a2-c960-4e58-854e-b62aaa9e03a1",
   "metadata": {},
   "outputs": [],
   "source": [
    "# Question1\n",
    "# Create a function that takes three parameters where:\n",
    "#  x is the start of the range (inclusive).\n",
    "#  y is the end of the range (inclusive).\n",
    "#  n is the divisor to be checked against.\n",
    "# Return an ordered list with numbers in the range that are divisible by the third parameter n.\n",
    "# Return an empty list if there are no numbers that are divisible by n.\n",
    "# Examples\n",
    "# list_operation(1, 10, 3) ➞ [3, 6, 9]\n",
    "# list_operation(7, 9, 2) ➞ [8]\n",
    "# list_operation(15, 20, 7) ➞ []\n",
    "\n",
    "def list_operation(x,y,n):\n",
    "    lis=[]\n",
    "    for a in range(x, y):\n",
    "        if a%n==0:\n",
    "            lis.append(a)\n",
    "    print(lis)\n",
    "    \n",
    "    "
   ]
  },
  {
   "cell_type": "code",
   "execution_count": 8,
   "id": "1c9772dc-133f-4918-8f5c-b29d38fb0eec",
   "metadata": {},
   "outputs": [
    {
     "name": "stdout",
     "output_type": "stream",
     "text": [
      "[3, 6, 9]\n"
     ]
    }
   ],
   "source": [
    "list_operation(1,10,3)"
   ]
  },
  {
   "cell_type": "code",
   "execution_count": 25,
   "id": "133f7c52-ef05-4758-807a-711a02902d6c",
   "metadata": {},
   "outputs": [],
   "source": [
    "# Question2\n",
    "# Create a function that takes in two lists and returns True if the second list follows the first list\n",
    "# by one element, and False otherwise. In other words, determine if the second list is the first\n",
    "# list shifted to the right by 1.\n",
    "# Examples\n",
    "# simon_says([1, 2], [5, 1]) ➞ True\n",
    "# simon_says([1, 2], [5, 5]) ➞ False\n",
    "# simon_says([1, 2, 3, 4, 5], [0, 1, 2, 3, 4]) ➞ True\n",
    "# simon_says([1, 2, 3, 4, 5], [5, 5, 1, 2, 3]) ➞ False\n",
    "# Notes\n",
    "#  Both input lists will be of the same length, and will have a minimum length of 2.\n",
    "#  The values of the 0-indexed element in the second list and the n-1th indexed element\n",
    "# in the first list do not matter.\n",
    "\n",
    "def simon_says(lis1,lis2):\n",
    "        a=len(lis1)\n",
    "        b=len(lis2) \n",
    "        if a==b: \n",
    "            if lis1[0]==lis2[1]:\n",
    "                print(\"True\")\n",
    "            else:\n",
    "                print(\"False\")\n",
    "        else:\n",
    "            print(\"Wrong! Enter list of equal length\")\n",
    "\n"
   ]
  },
  {
   "cell_type": "code",
   "execution_count": 27,
   "id": "192778ee-47bc-4921-ba71-ddb407a0b739",
   "metadata": {},
   "outputs": [
    {
     "name": "stdout",
     "output_type": "stream",
     "text": [
      "True\n"
     ]
    }
   ],
   "source": [
    "simon_says([1,2,3,4],[0,1,2,3])"
   ]
  },
  {
   "cell_type": "code",
   "execution_count": 93,
   "id": "7ca02954-5973-4110-ab68-07aafd7a9020",
   "metadata": {},
   "outputs": [],
   "source": [
    "# Question3\n",
    "# A group of friends have decided to start a secret society. The name will be the first letter of\n",
    "# each of their names, sorted in alphabetical order.\n",
    "# Create a function that takes in a list of names and returns the name of the secret society.\n",
    "\n",
    "# Examples\n",
    "# society_name([\"Adam\", \"Sarah\", \"Malcolm\"]) ➞ \"AMS\"\n",
    "# society_name([\"Harry\", \"Newt\", \"Luna\", \"Cho\"]) ➞ \"CHLN\"\n",
    "# society_name([\"Phoebe\", \"Chandler\", \"Rachel\", \"Ross\", \"Monica\", \"Joey\"])\n",
    "\n",
    "def society_name(lis):\n",
    "\n",
    "    lis.sort()\n",
    "    b=\"\"\n",
    "    for x in range(0,len(lis)):\n",
    "        b=b+(lis[x][0])\n",
    "    print(b)\n",
    "\n"
   ]
  },
  {
   "cell_type": "code",
   "execution_count": 94,
   "id": "6f6d7659-97f9-40e7-b708-8fd49e6045aa",
   "metadata": {},
   "outputs": [
    {
     "name": "stdout",
     "output_type": "stream",
     "text": [
      "CHLN\n"
     ]
    }
   ],
   "source": [
    "society_name([\"Harry\", \"Newt\", \"Luna\", \"Cho\"])"
   ]
  },
  {
   "cell_type": "code",
   "execution_count": 84,
   "id": "2fbd402a-b64c-431a-94cf-56a63332d32a",
   "metadata": {},
   "outputs": [],
   "source": [
    "# Question4\n",
    "# An isogram is a word that has no duplicate letters. Create a function that takes a string and\n",
    "# returns either True or False depending on whether or not it&#39;s an &quot;isogram&quot;.\n",
    "# Examples\n",
    "# is_isogram(&quot;Algorism&quot;) ➞ True\n",
    "# is_isogram(&quot;PasSword&quot;) ➞ False\n",
    "# # Not case sensitive.\n",
    "# is_isogram(&quot;Consecutive&quot;) ➞ False\n",
    "# Notes\n",
    "#  Ignore letter case (should not be case sensitive).\n",
    "#  All test cases contain valid one word strings.\n",
    "\n",
    "\n",
    "\n",
    "def is_isogram(txt):\n",
    "    a=txt.upper()\n",
    "    flag = True\n",
    "    for x in a:\n",
    "        if a.count(x) >1:\n",
    "            flag = False\n",
    "        else:\n",
    "            continue\n",
    "    if flag == False:\n",
    "        print(\"FALSE : some alphabets are present more than one time hence Not isogram\")   \n",
    "    else:\n",
    "        print(\"TRUE : It is an isogram\")\n",
    "\n"
   ]
  },
  {
   "cell_type": "code",
   "execution_count": 85,
   "id": "f017cb95-051f-41e8-be10-66e1d04bcf61",
   "metadata": {},
   "outputs": [
    {
     "name": "stdout",
     "output_type": "stream",
     "text": [
      "FALSE : some alphabets are present more than one time hence Not isogram\n"
     ]
    }
   ],
   "source": [
    "is_isogram(\"Very manY\")"
   ]
  },
  {
   "cell_type": "code",
   "execution_count": 105,
   "id": "de77de35-a904-4cfe-83d2-c5be285629ef",
   "metadata": {},
   "outputs": [],
   "source": [
    "# Question5\n",
    "# Create a function that takes a string and returns True or False, depending on whether the\n",
    "# characters are in order or not.\n",
    "# Examples\n",
    "# is_in_order(\"abc\") ➞ True\n",
    "# is_in_order(\"edabit\") ➞ False\n",
    "# is_in_order(\"123\") ➞ True\n",
    "# is_in_order(\"xyzz\") ➞ True\n",
    "# Notes\n",
    "# You don't have to handle empty strings.\n",
    "\n",
    "\n",
    "def is_in_order(a):\n",
    "    \n",
    "    lis1=[]\n",
    "    m=\"\"\n",
    "    for x in a:\n",
    "        lis1.append(x)\n",
    "    lis1.sort()\n",
    "    for y in lis1:\n",
    "        m=m+y\n",
    "\n",
    "    if a==m:\n",
    "        print(\"TRUE\")\n",
    "    else:\n",
    "        print(\"FALSE\")\n"
   ]
  },
  {
   "cell_type": "code",
   "execution_count": 109,
   "id": "184f17ca-cc0c-45ec-b9e6-c25011c8f1d8",
   "metadata": {},
   "outputs": [
    {
     "name": "stdout",
     "output_type": "stream",
     "text": [
      "FALSE\n"
     ]
    }
   ],
   "source": [
    "is_in_order(\"bca\")"
   ]
  },
  {
   "cell_type": "code",
   "execution_count": null,
   "id": "905ec18e-9f51-45b1-97bd-20719a2bf3b3",
   "metadata": {},
   "outputs": [],
   "source": []
  }
 ],
 "metadata": {
  "kernelspec": {
   "display_name": "Python 3 (ipykernel)",
   "language": "python",
   "name": "python3"
  },
  "language_info": {
   "codemirror_mode": {
    "name": "ipython",
    "version": 3
   },
   "file_extension": ".py",
   "mimetype": "text/x-python",
   "name": "python",
   "nbconvert_exporter": "python",
   "pygments_lexer": "ipython3",
   "version": "3.10.6"
  }
 },
 "nbformat": 4,
 "nbformat_minor": 5
}
